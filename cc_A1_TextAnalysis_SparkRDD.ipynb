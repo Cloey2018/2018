{
  "nbformat": 4,
  "nbformat_minor": 0,
  "metadata": {
    "colab": {
      "name": "cc01-zili6245-ziwei-li.ipynb",
      "provenance": [],
      "toc_visible": true
    },
    "kernelspec": {
      "name": "python3",
      "display_name": "Python 3"
    },
    "language_info": {
      "name": "python"
    }
  },
  "cells": [
    {
      "cell_type": "markdown",
      "source": [
        "**Environment Setting** "
      ],
      "metadata": {
        "id": "HD-weIDnBDp9"
      }
    },
    {
      "cell_type": "code",
      "execution_count": 1,
      "metadata": {
        "id": "BqC4uel2cPAu",
        "colab": {
          "base_uri": "https://localhost:8080/"
        },
        "outputId": "cf70cf60-cd46-436d-fbe1-8adcaa54259e"
      },
      "outputs": [
        {
          "output_type": "stream",
          "name": "stdout",
          "text": [
            "Requirement already satisfied: pyspark in /usr/local/lib/python3.7/dist-packages (3.2.1)\n",
            "Requirement already satisfied: py4j==0.10.9.3 in /usr/local/lib/python3.7/dist-packages (from pyspark) (0.10.9.3)\n"
          ]
        }
      ],
      "source": [
        "!pip install pyspark"
      ]
    },
    {
      "cell_type": "markdown",
      "source": [
        "# Dataset Preprocessing"
      ],
      "metadata": {
        "id": "C8XQvJLeBahG"
      }
    },
    {
      "cell_type": "markdown",
      "source": [
        "## Initialising Spark"
      ],
      "metadata": {
        "id": "C9SNHWKaCBZr"
      }
    },
    {
      "cell_type": "code",
      "source": [
        "from pyspark.sql import SparkSession\n",
        "spark = SparkSession \\\n",
        "    .builder \\\n",
        "    .appName(\"Comp5349 assignment1_luna\") \\\n",
        "    .getOrCreate()"
      ],
      "metadata": {
        "id": "Xn8hTxtXBSW-"
      },
      "execution_count": 2,
      "outputs": []
    },
    {
      "cell_type": "markdown",
      "source": [
        "## Load dataset"
      ],
      "metadata": {
        "id": "XBhg1LurCNJQ"
      }
    },
    {
      "cell_type": "code",
      "source": [
        "# Governing law\n",
        "input_path1 = 'data/Governing_Law.csv'\n",
        "# Change of control, anti-assignment\n",
        "input_path2 = 'data/Anti_assignment_CIC_g3.csv'\n",
        "\n",
        "rdd_1 = spark.read.csv(input_path1,header=True).rdd\n",
        "rdd_2 = spark.read.csv(input_path2,header=True).rdd\n",
        "\n",
        "# check if the dataset is complete, the rdds shoud contain 510 and 376 rows respectively\n",
        "print(rdd_1.count())\n",
        "print(rdd_2.count())"
      ],
      "metadata": {
        "colab": {
          "base_uri": "https://localhost:8080/"
        },
        "id": "sIfDUTHiCIgk",
        "outputId": "13f1e655-4abf-4dd5-aee1-2314cf177162"
      },
      "execution_count": 3,
      "outputs": [
        {
          "output_type": "stream",
          "name": "stdout",
          "text": [
            "510\n",
            "376\n"
          ]
        }
      ]
    },
    {
      "cell_type": "markdown",
      "source": [
        "Row to tuple, pair category with documents"
      ],
      "metadata": {
        "id": "6aTN3B3QEXjB"
      }
    },
    {
      "cell_type": "code",
      "source": [
        "category_list = ['Governing Law', 'Change of Control', 'Anti-assignment']\n",
        "\n",
        "def govern_KV (row):\n",
        "  row_dict = row.asDict()\n",
        "  return (row_dict[\"Filename\"], (category_list[0], row_dict[\"Governing Law\"]))\n",
        "  #return (category, (row_dict[\"Filename\"], row_dict[\"Governing Law\"]))\n",
        "\n",
        "def control_KV (row):\n",
        "  row_dict = row.asDict()\n",
        "  return (row_dict[\"Filename\"], (category_list[1], row_dict[\"Change of Control\"]))\n",
        "  #return (category, (row_dict[\"Filename\"], row_dict[\"Change of Control\"]))\n",
        "\n",
        "def anti_KV (row):\n",
        "  row_dict = row.asDict()\n",
        "  return (row_dict[\"Filename\"], (category_list[2], row_dict[\"Anti-assignment\"]))\n",
        "  #return (category, (row_dict[\"Filename\"], row_dict[\"Anti-assignment\"]))"
      ],
      "metadata": {
        "id": "u2suumrYEWrN"
      },
      "execution_count": 4,
      "outputs": []
    },
    {
      "cell_type": "markdown",
      "source": [
        "Remove nan values in each category"
      ],
      "metadata": {
        "id": "fJS6rehaHAqz"
      }
    },
    {
      "cell_type": "code",
      "source": [
        "# Governing RDD\n",
        "g_rdd = rdd_1.map(govern_KV).filter(lambda rec: rec[1][1] != 'nan')\n",
        "# Change of Control RDD\n",
        "c_rdd = rdd_2.map(control_KV).filter(lambda rec: rec[1][1] is not None)\n",
        "# Anti_assignment RDD\n",
        "a_rdd = rdd_2.map(anti_KV).filter(lambda rec: rec[1][1] is not None)\n",
        "print(g_rdd.count())\n",
        "print(c_rdd.count())\n",
        "print(a_rdd.count())"
      ],
      "metadata": {
        "colab": {
          "base_uri": "https://localhost:8080/"
        },
        "id": "1SsbCa3aElvD",
        "outputId": "51cd7e80-7a10-459e-881a-74122061886f"
      },
      "execution_count": 5,
      "outputs": [
        {
          "output_type": "stream",
          "name": "stdout",
          "text": [
            "437\n",
            "121\n",
            "374\n"
          ]
        }
      ]
    },
    {
      "cell_type": "markdown",
      "source": [
        "Combine three rdd to one rdd for quick computation and lowercase all contents"
      ],
      "metadata": {
        "id": "txQK-qmEEjI_"
      }
    },
    {
      "cell_type": "code",
      "source": [
        "# lowercase\n",
        "def lowercase (rec):\n",
        "  return (rec[0], (rec[1][0], rec[1][1].lower()))\n",
        "\n",
        "# combine three rdd into one rdd\n",
        "dataset_lower = g_rdd.union(c_rdd.union(a_rdd)).map(lowercase)\n",
        "dataset_lower.take(1)"
      ],
      "metadata": {
        "colab": {
          "base_uri": "https://localhost:8080/"
        },
        "id": "feN_iPwJDUpg",
        "outputId": "29a3659a-0805-4f91-8f94-8edd5cd4431b"
      },
      "execution_count": 6,
      "outputs": [
        {
          "output_type": "execute_result",
          "data": {
            "text/plain": [
              "[('CybergyHoldingsInc_20140520_10-Q_EX-10.27_8605784_EX-10.27_Affiliate Agreement.pdf',\n",
              "  ('Governing Law',\n",
              "   'this agreement is accepted by company in the state of nevada and shall be governed by and construed in accordance with the laws thereof, which laws shall prevail in the event of any conflict. (page 13)'))]"
            ]
          },
          "metadata": {},
          "execution_count": 6
        }
      ]
    },
    {
      "cell_type": "markdown",
      "source": [
        "# RAKE Algorithm"
      ],
      "metadata": {
        "id": "LmV0WglbG9Dc"
      }
    },
    {
      "cell_type": "markdown",
      "source": [
        "## Candidate phrase identification"
      ],
      "metadata": {
        "id": "YFOV182cE3yq"
      }
    },
    {
      "cell_type": "code",
      "source": [
        "import re\n",
        "import string\n",
        "import nltk\n",
        "nltk.download('stopwords')\n",
        "from nltk.corpus import stopwords\n",
        "stopwords = stopwords.words('english')"
      ],
      "metadata": {
        "colab": {
          "base_uri": "https://localhost:8080/"
        },
        "id": "PCmdrQ5nE4K6",
        "outputId": "0849ba71-c5af-49f6-a906-17d97cbaabd0"
      },
      "execution_count": 7,
      "outputs": [
        {
          "output_type": "stream",
          "name": "stdout",
          "text": [
            "[nltk_data] Downloading package stopwords to /root/nltk_data...\n",
            "[nltk_data]   Package stopwords is already up-to-date!\n"
          ]
        }
      ]
    },
    {
      "cell_type": "code",
      "source": [
        "# Adding page and number into stopwords\n",
        "roman_num_list = ['i', 'ii', 'iii', 'iv', 'v', 'vi', 'vii', 'viii', 'ix', 'x']\n",
        "stopwords += roman_num_list\n",
        "stopwords.append('page')\n",
        "stopwords[-10:]"
      ],
      "metadata": {
        "colab": {
          "base_uri": "https://localhost:8080/"
        },
        "id": "1P4OrLH1FbUR",
        "outputId": "8d77cc62-2722-4e13-d685-c0ec0f32f161"
      },
      "execution_count": 8,
      "outputs": [
        {
          "output_type": "execute_result",
          "data": {
            "text/plain": [
              "['ii', 'iii', 'iv', 'v', 'vi', 'vii', 'viii', 'ix', 'x', 'page']"
            ]
          },
          "metadata": {},
          "execution_count": 8
        }
      ]
    },
    {
      "cell_type": "code",
      "source": [
        "def isNum(s):\n",
        "  try:\n",
        "    float(s) if '.' in s else int(s)\n",
        "    return True\n",
        "  except ValueError:\n",
        "    return False\n",
        "\n",
        "def sentenceSplit (rec):\n",
        "  sentenceList = re.split(r'(?<!\\w\\.\\w.)(?<![A-Z][a-z]\\.)(?<=\\.|\\?|\\:|\\;|\\!|\\)|\\,)\\s',rec)\n",
        "  return sentenceList\n",
        "\n",
        "def wordSplit (sent):\n",
        "  word_splitter = sent.split(' ')\n",
        "  word_list =[]\n",
        "  for word in word_splitter:\n",
        "    if (len(word) >=3) and (word != '') and (not isNum(word)):\n",
        "      word_list.append(word)\n",
        "  return word_list\n",
        "\n",
        "# punctuation removal\n",
        "def punctuationRemoval (doc):\n",
        "  clean_docs = []\n",
        "  for i in doc:\n",
        "    # remove punctuation\n",
        "    # make sure numbers can be seperate from words\n",
        "    i = i.replace(')', ' ')\n",
        "    clean_doc = re.sub(r'[^\\w\\s]','',i)\n",
        "    clean_docs.append(clean_doc)\n",
        "  return clean_docs\n",
        "\n",
        "def generateCandidateKeywords(sent_list):\n",
        "  # generage regularised expression pattern of stopwords\n",
        "  stopword_reglist = []\n",
        "  for wrd in stopwords:\n",
        "    wrdregex = '\\\\b' + wrd + '\\\\b'\n",
        "    stopword_reglist.append(wrdregex)\n",
        "  stopword_pattern = re.compile('|'.join(stopword_reglist))\n",
        "  \n",
        "  # stopwords removal\n",
        "  phrase_list = []\n",
        "  for sent in sent_list:\n",
        "    tmp = re.sub(stopword_pattern, '|', sent.strip())\n",
        "    phrases = tmp.split(\"|\")\n",
        "    for phrase in phrases:\n",
        "      phrase = phrase.strip()\n",
        "      # phrase cannot be null and maximum length of phrase is 4\n",
        "      if (phrase != \"\") & (len(phrase) > 2) & (len(phrase.split()) <= 4):\n",
        "        phrase_list.append(phrase)\n",
        "  return phrase_list "
      ],
      "metadata": {
        "id": "6RtvXrXDFeeX"
      },
      "execution_count": 9,
      "outputs": []
    },
    {
      "cell_type": "code",
      "source": [
        "def phraseIdentification (rec):\n",
        "  sent_list = sentenceSplit(rec[1])\n",
        "  clean_sent = punctuationRemoval(sent_list)\n",
        "  phrase_list = generateCandidateKeywords(clean_sent)\n",
        "  return (rec[0], phrase_list)"
      ],
      "metadata": {
        "id": "SVvGGtYPFkJo"
      },
      "execution_count": 10,
      "outputs": []
    },
    {
      "cell_type": "markdown",
      "source": [
        "## RAKE score computation"
      ],
      "metadata": {
        "id": "N0XTH8ckGc2k"
      }
    },
    {
      "cell_type": "code",
      "source": [
        "def calculateWordFrequency (phrase_list):\n",
        "  word_freq = {}\n",
        "  for phrase in phrase_list:\n",
        "    # separate phrases into words\n",
        "    # word_list = phrase.split(' ')\n",
        "    word_list = wordSplit(phrase)\n",
        "    for word in word_list:\n",
        "      # initialise word frequency with 0\n",
        "      word_freq.setdefault(word, 0)\n",
        "      word_freq[word] += 1\n",
        "  return word_freq\n",
        "\n",
        "def calculateWordDegree (phrase_list):\n",
        "  word_deg = {}\n",
        "  for phrase in phrase_list:\n",
        "    # separate phrases into words\n",
        "    # word_list = phrase.split(' ')\n",
        "    word_list = wordSplit(phrase)\n",
        "    wordlist_deg = len(word_list) - 1\n",
        "    for word in word_list:\n",
        "      word_deg.setdefault(word, 0)\n",
        "      word_deg[word] += 1\n",
        "      word_deg[word] += wordlist_deg\n",
        "  return word_deg"
      ],
      "metadata": {
        "id": "4-5wTP6cFwIY"
      },
      "execution_count": 11,
      "outputs": []
    },
    {
      "cell_type": "code",
      "source": [
        "def wordScore (rec):  \n",
        "  word_score = {}\n",
        "  word_freq = calculateWordFrequency(rec)\n",
        "  word_deg = calculateWordDegree(rec)\n",
        "  for word in word_freq:\n",
        "    word_score.setdefault(word, 0)\n",
        "    # Word score = word degree/word frequency\n",
        "    word_score[word] = word_deg[word] / (word_freq[word] * 1.0) \n",
        "  return (rec, word_score)"
      ],
      "metadata": {
        "id": "jzD_tWmRIm_1"
      },
      "execution_count": 12,
      "outputs": []
    },
    {
      "cell_type": "code",
      "source": [
        "def candidateScore(phrase_list, word_score):\n",
        "  phrase_score = {}\n",
        "  candidate_score = {}\n",
        "  # word_score = wordScore(phrase_list)\n",
        "  for phrase in phrase_list:\n",
        "      # word_list = phrase.split(' ')\n",
        "      word_list = wordSplit(phrase)\n",
        "      phrase = ' '.join(word_list)\n",
        "      phrase_score.setdefault(phrase, 0)\n",
        "      c_score = 0\n",
        "      for word in word_list:\n",
        "          c_score += word_score[word]\n",
        "      phrase_score[phrase] = c_score\n",
        "  # Combine word_score with phrase_score\n",
        "  candidate_score.update(word_score)\n",
        "  candidate_score.update(phrase_score)\n",
        "  return candidate_score"
      ],
      "metadata": {
        "id": "KytCeileK0Iu"
      },
      "execution_count": 13,
      "outputs": []
    },
    {
      "cell_type": "markdown",
      "source": [
        "# Workload 1\n",
        "Take each clause as a single document and each ategory as a corpus. Rank keywords of each corpus based on ESS score."
      ],
      "metadata": {
        "id": "Iz27egyZL8wG"
      }
    },
    {
      "cell_type": "markdown",
      "source": [
        "### Phrase identification\n",
        "Clause identification"
      ],
      "metadata": {
        "id": "hFDKgx58EhX7"
      }
    },
    {
      "cell_type": "code",
      "source": [
        "def clauseSplit (rec):\n",
        "  clause_list = rec[1][1].split(\"(page \")\n",
        "  for clause in clause_list:\n",
        "    if len(clause) < 10:\n",
        "      clause_list.remove(clause)\n",
        "  return [(rec[1][0], clause) for clause in clause_list]"
      ],
      "metadata": {
        "id": "L_agQBCYME96"
      },
      "execution_count": 14,
      "outputs": []
    },
    {
      "cell_type": "code",
      "source": [
        "# (category, clause)\n",
        "w1_doc = dataset_lower.flatMap(clauseSplit)\n",
        "w1_doc.take(5)"
      ],
      "metadata": {
        "colab": {
          "base_uri": "https://localhost:8080/"
        },
        "id": "vf0jb1TMEqpB",
        "outputId": "a22dd134-fe2e-48f5-a110-482521191a73"
      },
      "execution_count": 15,
      "outputs": [
        {
          "output_type": "execute_result",
          "data": {
            "text/plain": [
              "[('Governing Law',\n",
              "  'this agreement is accepted by company in the state of nevada and shall be governed by and construed in accordance with the laws thereof, which laws shall prevail in the event of any conflict. '),\n",
              " ('Governing Law',\n",
              "  'this agreement shall be governed by laws of the province of ontario and the federal laws of canada applicable therein. '),\n",
              " ('Governing Law',\n",
              "  '9)  this agreement is subject to all laws, regulations, license conditions and decisions of the canadian radio-television and telecommunications commission (‚äúcrtc‚äù) municipal, provincial and federal governments or other authorities which are applicable to rogers and/or licensor, and which are now in force or hereafter adopted (‚äúapplicable law‚äù). '),\n",
              " ('Governing Law',\n",
              "  'all questions with respect to the construction of this agreement, and the rights and liabilities of the parties hereto, shall be governed by the laws of the state of florida. '),\n",
              " ('Governing Law',\n",
              "  'this agreement shall be governed by and construed in accordance with the internal laws of the state of nevada without giving effect to any choice or conflict of law provision or rule. ')]"
            ]
          },
          "metadata": {},
          "execution_count": 15
        }
      ]
    },
    {
      "cell_type": "markdown",
      "source": [
        "Phrase identification for each clause"
      ],
      "metadata": {
        "id": "lM-p2_eDFNgj"
      }
    },
    {
      "cell_type": "code",
      "source": [
        "# (category, phrase_list) of each clause\n",
        "w1_clause_phrase_list = w1_doc.map(phraseIdentification)\n",
        "w1_clause_phrase_list.take(5)"
      ],
      "metadata": {
        "colab": {
          "base_uri": "https://localhost:8080/"
        },
        "id": "k3Xl4CSgFT9K",
        "outputId": "d326a0df-3b6a-48e9-fa17-2eab022efd4b"
      },
      "execution_count": 16,
      "outputs": [
        {
          "output_type": "execute_result",
          "data": {
            "text/plain": [
              "[('Governing Law',\n",
              "  ['agreement',\n",
              "   'accepted',\n",
              "   'company',\n",
              "   'state',\n",
              "   'nevada',\n",
              "   'shall',\n",
              "   'governed',\n",
              "   'construed',\n",
              "   'accordance',\n",
              "   'laws thereof',\n",
              "   'laws shall prevail',\n",
              "   'event',\n",
              "   'conflict']),\n",
              " ('Governing Law',\n",
              "  ['agreement shall',\n",
              "   'governed',\n",
              "   'laws',\n",
              "   'province',\n",
              "   'ontario',\n",
              "   'federal laws',\n",
              "   'canada applicable therein']),\n",
              " ('Governing Law',\n",
              "  ['agreement',\n",
              "   'subject',\n",
              "   'laws',\n",
              "   'regulations',\n",
              "   'license conditions',\n",
              "   'decisions',\n",
              "   'canadian radiotelevision',\n",
              "   'telecommunications commission äúcrtcäù',\n",
              "   'municipal',\n",
              "   'provincial',\n",
              "   'federal governments',\n",
              "   'authorities',\n",
              "   'applicable',\n",
              "   'rogers andor licensor',\n",
              "   'force',\n",
              "   'hereafter adopted äúapplicable lawäù']),\n",
              " ('Governing Law',\n",
              "  ['questions',\n",
              "   'respect',\n",
              "   'construction',\n",
              "   'agreement',\n",
              "   'rights',\n",
              "   'liabilities',\n",
              "   'parties hereto',\n",
              "   'shall',\n",
              "   'governed',\n",
              "   'laws',\n",
              "   'state',\n",
              "   'florida']),\n",
              " ('Governing Law',\n",
              "  ['agreement shall',\n",
              "   'governed',\n",
              "   'construed',\n",
              "   'accordance',\n",
              "   'internal laws',\n",
              "   'state',\n",
              "   'nevada without giving effect',\n",
              "   'choice',\n",
              "   'conflict',\n",
              "   'law provision',\n",
              "   'rule'])]"
            ]
          },
          "metadata": {},
          "execution_count": 16
        }
      ]
    },
    {
      "cell_type": "markdown",
      "source": [
        "### Word score caculation"
      ],
      "metadata": {
        "id": "thnTG5SUGiQb"
      }
    },
    {
      "cell_type": "code",
      "source": [
        "# (category, (phrase_list ,dict(word, score))) of each clause\n",
        "w1_clause_wordScore = w1_clause_phrase_list.mapValues(wordScore)\n",
        "w1_clause_wordScore.values().values().take(5)"
      ],
      "metadata": {
        "colab": {
          "base_uri": "https://localhost:8080/"
        },
        "id": "8DFe0tYmGlI4",
        "outputId": "77a1bbf2-8607-4a07-d4ca-e29f2e701096"
      },
      "execution_count": 17,
      "outputs": [
        {
          "output_type": "execute_result",
          "data": {
            "text/plain": [
              "[{'accepted': 1.0,\n",
              "  'accordance': 1.0,\n",
              "  'agreement': 1.0,\n",
              "  'company': 1.0,\n",
              "  'conflict': 1.0,\n",
              "  'construed': 1.0,\n",
              "  'event': 1.0,\n",
              "  'governed': 1.0,\n",
              "  'laws': 2.5,\n",
              "  'nevada': 1.0,\n",
              "  'prevail': 3.0,\n",
              "  'shall': 2.0,\n",
              "  'state': 1.0,\n",
              "  'thereof': 2.0},\n",
              " {'agreement': 2.0,\n",
              "  'applicable': 3.0,\n",
              "  'canada': 3.0,\n",
              "  'federal': 2.0,\n",
              "  'governed': 1.0,\n",
              "  'laws': 1.5,\n",
              "  'ontario': 1.0,\n",
              "  'province': 1.0,\n",
              "  'shall': 2.0,\n",
              "  'therein': 3.0},\n",
              " {'adopted': 4.0,\n",
              "  'agreement': 1.0,\n",
              "  'andor': 3.0,\n",
              "  'applicable': 1.0,\n",
              "  'authorities': 1.0,\n",
              "  'canadian': 2.0,\n",
              "  'commission': 3.0,\n",
              "  'conditions': 2.0,\n",
              "  'decisions': 1.0,\n",
              "  'federal': 2.0,\n",
              "  'force': 1.0,\n",
              "  'governments': 2.0,\n",
              "  'hereafter': 4.0,\n",
              "  'laws': 1.0,\n",
              "  'lawäù': 4.0,\n",
              "  'license': 2.0,\n",
              "  'licensor': 3.0,\n",
              "  'municipal': 1.0,\n",
              "  'provincial': 1.0,\n",
              "  'radiotelevision': 2.0,\n",
              "  'regulations': 1.0,\n",
              "  'rogers': 3.0,\n",
              "  'subject': 1.0,\n",
              "  'telecommunications': 3.0,\n",
              "  'äúapplicable': 4.0,\n",
              "  'äúcrtcäù': 3.0},\n",
              " {'agreement': 1.0,\n",
              "  'construction': 1.0,\n",
              "  'florida': 1.0,\n",
              "  'governed': 1.0,\n",
              "  'hereto': 2.0,\n",
              "  'laws': 1.0,\n",
              "  'liabilities': 1.0,\n",
              "  'parties': 2.0,\n",
              "  'questions': 1.0,\n",
              "  'respect': 1.0,\n",
              "  'rights': 1.0,\n",
              "  'shall': 1.0,\n",
              "  'state': 1.0},\n",
              " {'accordance': 1.0,\n",
              "  'agreement': 2.0,\n",
              "  'choice': 1.0,\n",
              "  'conflict': 1.0,\n",
              "  'construed': 1.0,\n",
              "  'effect': 4.0,\n",
              "  'giving': 4.0,\n",
              "  'governed': 1.0,\n",
              "  'internal': 2.0,\n",
              "  'law': 2.0,\n",
              "  'laws': 2.0,\n",
              "  'nevada': 4.0,\n",
              "  'provision': 2.0,\n",
              "  'rule': 1.0,\n",
              "  'shall': 2.0,\n",
              "  'state': 1.0,\n",
              "  'without': 4.0}]"
            ]
          },
          "metadata": {},
          "execution_count": 17
        }
      ]
    },
    {
      "cell_type": "markdown",
      "source": [
        "### Candidate score caculation"
      ],
      "metadata": {
        "id": "18WRim1mHd_o"
      }
    },
    {
      "cell_type": "code",
      "source": [
        "def candidateScore1(rec):\n",
        "  phrase_list = rec[0]\n",
        "  word_score = rec[1]\n",
        "  candidate_score = candidateScore(phrase_list, word_score)\n",
        "  return candidate_score"
      ],
      "metadata": {
        "id": "1ex_cS7rHdfb"
      },
      "execution_count": 18,
      "outputs": []
    },
    {
      "cell_type": "code",
      "source": [
        "# (category, dict(clause_candidate, score)) of each clause\n",
        "w1_clause_candidateScore = w1_clause_wordScore.mapValues(candidateScore1)\n",
        "w1_clause_candidateScore.take(3)"
      ],
      "metadata": {
        "colab": {
          "base_uri": "https://localhost:8080/"
        },
        "id": "n-9EcsZ0NXdz",
        "outputId": "e20d1cda-28f6-4052-b5a0-50862827a659"
      },
      "execution_count": 19,
      "outputs": [
        {
          "output_type": "execute_result",
          "data": {
            "text/plain": [
              "[('Governing Law',\n",
              "  {'accepted': 1.0,\n",
              "   'accordance': 1.0,\n",
              "   'agreement': 1.0,\n",
              "   'company': 1.0,\n",
              "   'conflict': 1.0,\n",
              "   'construed': 1.0,\n",
              "   'event': 1.0,\n",
              "   'governed': 1.0,\n",
              "   'laws': 2.5,\n",
              "   'laws shall prevail': 7.5,\n",
              "   'laws thereof': 4.5,\n",
              "   'nevada': 1.0,\n",
              "   'prevail': 3.0,\n",
              "   'shall': 2.0,\n",
              "   'state': 1.0,\n",
              "   'thereof': 2.0}),\n",
              " ('Governing Law',\n",
              "  {'agreement': 2.0,\n",
              "   'agreement shall': 4.0,\n",
              "   'applicable': 3.0,\n",
              "   'canada': 3.0,\n",
              "   'canada applicable therein': 9.0,\n",
              "   'federal': 2.0,\n",
              "   'federal laws': 3.5,\n",
              "   'governed': 1.0,\n",
              "   'laws': 1.5,\n",
              "   'ontario': 1.0,\n",
              "   'province': 1.0,\n",
              "   'shall': 2.0,\n",
              "   'therein': 3.0}),\n",
              " ('Governing Law',\n",
              "  {'adopted': 4.0,\n",
              "   'agreement': 1.0,\n",
              "   'andor': 3.0,\n",
              "   'applicable': 1.0,\n",
              "   'authorities': 1.0,\n",
              "   'canadian': 2.0,\n",
              "   'canadian radiotelevision': 4.0,\n",
              "   'commission': 3.0,\n",
              "   'conditions': 2.0,\n",
              "   'decisions': 1.0,\n",
              "   'federal': 2.0,\n",
              "   'federal governments': 4.0,\n",
              "   'force': 1.0,\n",
              "   'governments': 2.0,\n",
              "   'hereafter': 4.0,\n",
              "   'hereafter adopted äúapplicable lawäù': 16.0,\n",
              "   'laws': 1.0,\n",
              "   'lawäù': 4.0,\n",
              "   'license': 2.0,\n",
              "   'license conditions': 4.0,\n",
              "   'licensor': 3.0,\n",
              "   'municipal': 1.0,\n",
              "   'provincial': 1.0,\n",
              "   'radiotelevision': 2.0,\n",
              "   'regulations': 1.0,\n",
              "   'rogers': 3.0,\n",
              "   'rogers andor licensor': 9.0,\n",
              "   'subject': 1.0,\n",
              "   'telecommunications': 3.0,\n",
              "   'telecommunications commission äúcrtcäù': 9.0,\n",
              "   'äúapplicable': 4.0,\n",
              "   'äúcrtcäù': 3.0})]"
            ]
          },
          "metadata": {},
          "execution_count": 19
        }
      ]
    },
    {
      "cell_type": "markdown",
      "source": [
        "Get candidate list of each clause and store them in a list. Each item in the list rpresents a candidate list ectrcted from one clause of corresponding category."
      ],
      "metadata": {
        "id": "mfxFFhLcQspb"
      }
    },
    {
      "cell_type": "code",
      "source": [
        "def clauseCandidate (rec):\n",
        "  c_list = list(rec.keys())\n",
        "  return c_list"
      ],
      "metadata": {
        "id": "l3DhiS5JQ0ja"
      },
      "execution_count": 20,
      "outputs": []
    },
    {
      "cell_type": "code",
      "source": [
        "# candidate list of each clause\n",
        "clause_clist_gov = w1_clause_candidateScore.mapValues(clauseCandidate)\\\n",
        "                  .filter(lambda rec: rec[0] == category_list[0])\\\n",
        "                  .values().collect()\n",
        "clause_clist_change = w1_clause_candidateScore.mapValues(clauseCandidate)\\\n",
        "                  .filter(lambda rec: rec[0] == category_list[1])\\\n",
        "                  .values().collect()\n",
        "clause_clist_anti = w1_clause_candidateScore.mapValues(clauseCandidate)\\\n",
        "                  .filter(lambda rec: rec[0] == category_list[2])\\\n",
        "                  .values().collect()\n",
        "len(clause_clist_gov)"
      ],
      "metadata": {
        "colab": {
          "base_uri": "https://localhost:8080/"
        },
        "id": "lt1UthUbIm9b",
        "outputId": "8239f2ae-93f1-49ee-eb22-655e1e18f3fa"
      },
      "execution_count": 21,
      "outputs": [
        {
          "output_type": "execute_result",
          "data": {
            "text/plain": [
              "455"
            ]
          },
          "metadata": {},
          "execution_count": 21
        }
      ]
    },
    {
      "cell_type": "markdown",
      "source": [
        "### Keywords identification\n",
        "Choose top 4 candidates as keywords from each clause."
      ],
      "metadata": {
        "id": "sweWI2YWHlEk"
      }
    },
    {
      "cell_type": "code",
      "source": [
        "# extract keywords from each clause\n",
        "def clauseKeywordsExtraction (rec):\n",
        "  klist = []\n",
        "  sorted_dic = dict(sorted(rec.items(), key = lambda kv:(kv[1], kv[0])))\n",
        "  klist = list(sorted_dic.keys())\n",
        "  if len(klist) > 4:\n",
        "    return klist[:4]\n",
        "  else:\n",
        "    return klist"
      ],
      "metadata": {
        "id": "yPcr6J40HsZb"
      },
      "execution_count": 22,
      "outputs": []
    },
    {
      "cell_type": "code",
      "source": [
        "# (category, list(keywords))\n",
        "clause_keywords = w1_clause_candidateScore.mapValues(clauseKeywordsExtraction)\n",
        "clause_keywords.take(1)"
      ],
      "metadata": {
        "colab": {
          "base_uri": "https://localhost:8080/"
        },
        "id": "QeqKBJ-5SfpM",
        "outputId": "20bda6ab-6b32-427a-cdc2-5f13bad5517c"
      },
      "execution_count": 23,
      "outputs": [
        {
          "output_type": "execute_result",
          "data": {
            "text/plain": [
              "[('Governing Law', ['accepted', 'accordance', 'agreement', 'company'])]"
            ]
          },
          "metadata": {},
          "execution_count": 23
        }
      ]
    },
    {
      "cell_type": "markdown",
      "source": [
        "\n",
        "Get keywords from each clause and store them in a list. Each item in the list rpresents a keyword list ectrcted from one clause of corresponding category.\n"
      ],
      "metadata": {
        "id": "PV00tjyBTBpZ"
      }
    },
    {
      "cell_type": "code",
      "source": [
        "# keywords list of each clause\n",
        "clause_klist_gov = clause_keywords.filter(lambda rec: rec[0] == category_list[0])\\\n",
        "                  .values().collect()\n",
        "clause_klist_change = clause_keywords.filter(lambda rec: rec[0] == category_list[1])\\\n",
        "                  .values().collect()\n",
        "clause_klist_anti = clause_keywords.filter(lambda rec: rec[0] == category_list[2])\\\n",
        "                  .values().collect()\n",
        "len(clause_klist_gov)"
      ],
      "metadata": {
        "colab": {
          "base_uri": "https://localhost:8080/"
        },
        "id": "Jy9DrsVkKKKp",
        "outputId": "e7873f51-a6e1-4c62-cb7f-cae892367837"
      },
      "execution_count": 24,
      "outputs": [
        {
          "output_type": "execute_result",
          "data": {
            "text/plain": [
              "455"
            ]
          },
          "metadata": {},
          "execution_count": 24
        }
      ]
    },
    {
      "cell_type": "markdown",
      "source": [
        "Pair each keyword with corresponding corpus."
      ],
      "metadata": {
        "id": "7tFTp0kBT8Uk"
      }
    },
    {
      "cell_type": "code",
      "source": [
        "def corpusKeywords(rec):\n",
        "  new_set = set()\n",
        "  for l in rec[1]:\n",
        "    new_set.update(set(l))\n",
        "  new_list = list(filter(None, list(new_set))) \n",
        "  return [(rec[0], kw) for kw in new_list]"
      ],
      "metadata": {
        "id": "zKVg1GqfUGKS"
      },
      "execution_count": 25,
      "outputs": []
    },
    {
      "cell_type": "code",
      "source": [
        "# (category, keyword)\n",
        "w1_corpusKeywords = clause_keywords.groupByKey().flatMap(corpusKeywords)\n",
        "w1_corpusKeywords.take(2)"
      ],
      "metadata": {
        "colab": {
          "base_uri": "https://localhost:8080/"
        },
        "id": "432Yx6yGUI0s",
        "outputId": "5f0f28e7-950f-4f95-937d-9609a815758a"
      },
      "execution_count": 26,
      "outputs": [
        {
          "output_type": "execute_result",
          "data": {
            "text/plain": [
              "[('Governing Law', 'arising'), ('Governing Law', 'acts')]"
            ]
          },
          "metadata": {},
          "execution_count": 26
        }
      ]
    },
    {
      "cell_type": "markdown",
      "source": [
        "### ESS caculation\n",
        "RDF caculation"
      ],
      "metadata": {
        "id": "HjXOb0N1HtEq"
      }
    },
    {
      "cell_type": "code",
      "source": [
        "# referenced document frequency of a keyword\n",
        "# in candidate list\n",
        "def caculateRDF (rec):\n",
        "  word_rdf = 0\n",
        "  # to check which candidate list should be used\n",
        "  if rec[0] == category_list[0]:\n",
        "    clause_clist = clause_clist_gov\n",
        "  elif rec[0] == category_list[1]:\n",
        "    clause_clist = clause_clist_change\n",
        "  else:\n",
        "    clause_clist = clause_clist_anti\n",
        "\n",
        "  for c in clause_clist:\n",
        "    if rec[1] in c:\n",
        "      word_rdf += 1\n",
        "  return (rec[0], (rec[1], word_rdf))"
      ],
      "metadata": {
        "id": "nAibZmlNMJAS"
      },
      "execution_count": 27,
      "outputs": []
    },
    {
      "cell_type": "code",
      "source": [
        "# RDF\n",
        "# (category, (keyword, rdf))\n",
        "corpus_rdf = w1_corpusKeywords.map(caculateRDF)\n",
        "corpus_rdf.take(2)"
      ],
      "metadata": {
        "colab": {
          "base_uri": "https://localhost:8080/"
        },
        "id": "WBaEmPKHMkTl",
        "outputId": "632ff174-9a65-4f76-9ae5-b58820b06b31"
      },
      "execution_count": 28,
      "outputs": [
        {
          "output_type": "execute_result",
          "data": {
            "text/plain": [
              "[('Governing Law', ('arising', 51)), ('Governing Law', ('acts', 2))]"
            ]
          },
          "metadata": {},
          "execution_count": 28
        }
      ]
    },
    {
      "cell_type": "markdown",
      "source": [
        "EDF caculation"
      ],
      "metadata": {
        "id": "2nO_7TXbWGzX"
      }
    },
    {
      "cell_type": "code",
      "source": [
        "# extracted document frequency of a keyword\n",
        "# in keyword list\n",
        "def caculateEDF (rec):\n",
        "  word_edf = 0\n",
        "  # to check which candidate list should be used\n",
        "  if rec[0] == category_list[0]:\n",
        "    clause_klist = clause_klist_gov\n",
        "  elif rec[0] == category_list[1]:\n",
        "    clause_klist = clause_klist_change\n",
        "  else:\n",
        "    clause_klist = clause_klist_anti\n",
        "  #    \n",
        "  for k in clause_klist:\n",
        "    if rec[1][0] in k:\n",
        "      word_edf += 1\n",
        "  return (rec[0], (rec[1][0], [rec[1][1], word_edf]))"
      ],
      "metadata": {
        "id": "Gm0kqLnNLEBM"
      },
      "execution_count": 29,
      "outputs": []
    },
    {
      "cell_type": "code",
      "source": [
        "# EDF\n",
        "# (category, (keyword, [rdf, corpus_edf]))\n",
        "corpus_edf = corpus_rdf.map(caculateEDF)\n",
        "corpus_edf.take(2)"
      ],
      "metadata": {
        "colab": {
          "base_uri": "https://localhost:8080/"
        },
        "id": "-IwD8QH-K1rt",
        "outputId": "a14ab53b-381a-4ce9-b899-4ce236f7ac85"
      },
      "execution_count": 30,
      "outputs": [
        {
          "output_type": "execute_result",
          "data": {
            "text/plain": [
              "[('Governing Law', ('arising', [51, 7])), ('Governing Law', ('acts', [2, 2]))]"
            ]
          },
          "metadata": {},
          "execution_count": 30
        }
      ]
    },
    {
      "cell_type": "code",
      "source": [
        "# essentiality of a keyword\n",
        "def caculateESS (rec):\n",
        "  word_rdf = rec[1][0]\n",
        "  word_edf = rec[1][1]\n",
        "  word_ess = (word_edf/word_rdf) * word_edf\n",
        "  return (word_ess, (rec[0], [('RDF', word_rdf), ('EDF', word_edf)]))"
      ],
      "metadata": {
        "id": "CWUZwNysUibv"
      },
      "execution_count": 31,
      "outputs": []
    },
    {
      "cell_type": "code",
      "source": [
        "# ESS\n",
        "# (category, (ess, (keyword, [rdf, corpus_edf])))\n",
        "corpus_ess = corpus_edf.mapValues(caculateESS)\n",
        "corpus_ess.take(2)"
      ],
      "metadata": {
        "colab": {
          "base_uri": "https://localhost:8080/"
        },
        "id": "boelwK4uWELM",
        "outputId": "b4e3859a-5aca-4f1f-b6af-7f318c03b347"
      },
      "execution_count": 32,
      "outputs": [
        {
          "output_type": "execute_result",
          "data": {
            "text/plain": [
              "[('Governing Law',\n",
              "  (0.9607843137254903, ('arising', [('RDF', 51), ('EDF', 7)]))),\n",
              " ('Governing Law', (2.0, ('acts', [('RDF', 2), ('EDF', 2)])))]"
            ]
          },
          "metadata": {},
          "execution_count": 32
        }
      ]
    },
    {
      "cell_type": "markdown",
      "source": [
        "### Top 20 keywords"
      ],
      "metadata": {
        "id": "JxBWbuWbH1dX"
      }
    },
    {
      "cell_type": "code",
      "source": [
        "# Governing\n",
        "w1_ess_gov = corpus_ess.filter(lambda rec: rec[0] == category_list[0])\\\n",
        "                  .values().sortByKey(False)\n",
        "w1_ess_gov.take(20)"
      ],
      "metadata": {
        "colab": {
          "base_uri": "https://localhost:8080/"
        },
        "id": "_gpQhCbjIAjI",
        "outputId": "75129cb6-1328-4a3a-9472-fcd19774ca2b"
      },
      "execution_count": 33,
      "outputs": [
        {
          "output_type": "execute_result",
          "data": {
            "text/plain": [
              "[(285.0034843205575, ('accordance', [('RDF', 287), ('EDF', 286)])),\n",
              " (167.48188405797103, ('construed', [('RDF', 276), ('EDF', 215)])),\n",
              " (132.25797872340425, ('governed', [('RDF', 376), ('EDF', 223)])),\n",
              " (95.40833333333335, ('conflict', [('RDF', 120), ('EDF', 107)])),\n",
              " (86.73451327433628, ('conflicts', [('RDF', 113), ('EDF', 99)])),\n",
              " (61.134433962264154, ('agreement', [('RDF', 424), ('EDF', 161)])),\n",
              " (34.56818181818182, ('choice', [('RDF', 44), ('EDF', 39)])),\n",
              " (24.5, ('application', [('RDF', 32), ('EDF', 28)])),\n",
              " (23.757575757575758, ('construction', [('RDF', 33), ('EDF', 28)])),\n",
              " (19.53066037735849, ('laws', [('RDF', 424), ('EDF', 91)])),\n",
              " (19.173913043478258, ('commonwealth', [('RDF', 23), ('EDF', 21)])),\n",
              " (18.77586206896552, ('california', [('RDF', 58), ('EDF', 33)])),\n",
              " (14.0, ('america', [('RDF', 14), ('EDF', 14)])),\n",
              " (7.895522388059701, ('interpreted', [('RDF', 67), ('EDF', 23)])),\n",
              " (7.142857142857143, ('claims', [('RDF', 14), ('EDF', 10)])),\n",
              " (6.722222222222223, ('florida', [('RDF', 18), ('EDF', 11)])),\n",
              " (6.125, ('applied', [('RDF', 8), ('EDF', 7)])),\n",
              " (5.953488372093023, ('delaware', [('RDF', 43), ('EDF', 16)])),\n",
              " (5.260869565217392, ('except', [('RDF', 23), ('EDF', 11)])),\n",
              " (5.0, ('controlled', [('RDF', 5), ('EDF', 5)]))]"
            ]
          },
          "metadata": {},
          "execution_count": 33
        }
      ]
    },
    {
      "cell_type": "code",
      "source": [
        "# Change of control\n",
        "w1_ess_change = corpus_ess.filter(lambda rec: rec[0] == category_list[1])\\\n",
        "                  .values().sortByKey(False)\n",
        "w1_ess_change.take(20)"
      ],
      "metadata": {
        "colab": {
          "base_uri": "https://localhost:8080/"
        },
        "id": "9cPDBc8LIA9x",
        "outputId": "9daaf1da-03ed-45d0-fc85-e1274c3f270b"
      },
      "execution_count": 34,
      "outputs": [
        {
          "output_type": "execute_result",
          "data": {
            "text/plain": [
              "[(64.0, ('change', [('RDF', 121), ('EDF', 88)])),\n",
              " (37.61940298507462, ('agreement', [('RDF', 134), ('EDF', 71)])),\n",
              " (20.081818181818182, ('control', [('RDF', 110), ('EDF', 47)])),\n",
              " (16.53125, ('assignment', [('RDF', 32), ('EDF', 23)])),\n",
              " (12.6, ('assets', [('RDF', 35), ('EDF', 21)])),\n",
              " (10.31578947368421, ('acquisition', [('RDF', 19), ('EDF', 14)])),\n",
              " (10.0, ('accordance', [('RDF', 10), ('EDF', 10)])),\n",
              " (8.066666666666666, ('event', [('RDF', 60), ('EDF', 22)])),\n",
              " (6.76, ('assign', [('RDF', 25), ('EDF', 13)])),\n",
              " (6.050000000000001, ('consolidation', [('RDF', 20), ('EDF', 11)])),\n",
              " (6.0, ('addition', [('RDF', 6), ('EDF', 6)])),\n",
              " (5.761904761904762, ('affiliate', [('RDF', 21), ('EDF', 11)])),\n",
              " (5.142857142857142, ('acquired', [('RDF', 7), ('EDF', 6)])),\n",
              " (5.142857142857142, ('controlled', [('RDF', 7), ('EDF', 6)])),\n",
              " (4.571428571428571, ('case', [('RDF', 14), ('EDF', 8)])),\n",
              " (4.263157894736842, ('connection', [('RDF', 19), ('EDF', 9)])),\n",
              " (4.083333333333334, ('assigned', [('RDF', 12), ('EDF', 7)])),\n",
              " (4.0, ('avoidance', [('RDF', 4), ('EDF', 4)])),\n",
              " (4.0, ('considered', [('RDF', 4), ('EDF', 4)])),\n",
              " (3.5714285714285716, ('consummation', [('RDF', 7), ('EDF', 5)]))]"
            ]
          },
          "metadata": {},
          "execution_count": 34
        }
      ]
    },
    {
      "cell_type": "code",
      "source": [
        "# Anti-assignment\n",
        "w1_ess_anti = corpus_ess.filter(lambda rec: rec[0] == category_list[2])\\\n",
        "                  .values().sortByKey(False)\n",
        "w1_ess_anti.take(20)"
      ],
      "metadata": {
        "colab": {
          "base_uri": "https://localhost:8080/"
        },
        "id": "DhSMQcmbIBNK",
        "outputId": "e0f9bd1b-3dc1-4530-b309-4746bf0141e7"
      },
      "execution_count": 35,
      "outputs": [
        {
          "output_type": "execute_result",
          "data": {
            "text/plain": [
              "[(150.55679287305122, ('agreement', [('RDF', 449), ('EDF', 260)])),\n",
              " (98.84745762711864, ('assigned', [('RDF', 118), ('EDF', 108)])),\n",
              " (82.814696485623, ('assign', [('RDF', 313), ('EDF', 161)])),\n",
              " (49.42285714285715, ('assignment', [('RDF', 175), ('EDF', 93)])),\n",
              " (46.666666666666664, ('assets', [('RDF', 105), ('EDF', 70)])),\n",
              " (33.75, ('affiliate', [('RDF', 60), ('EDF', 45)])),\n",
              " (27.272727272727273, ('assignable', [('RDF', 33), ('EDF', 30)])),\n",
              " (24.532258064516128, ('delegate', [('RDF', 62), ('EDF', 39)])),\n",
              " (23.09160305343511, ('except', [('RDF', 131), ('EDF', 55)])),\n",
              " (21.35294117647059, ('null', [('RDF', 51), ('EDF', 33)])),\n",
              " (20.930232558139537, ('delayed', [('RDF', 43), ('EDF', 30)])),\n",
              " (18.892857142857142, ('benefit', [('RDF', 28), ('EDF', 23)])),\n",
              " (17.36111111111111, ('affiliates', [('RDF', 36), ('EDF', 25)])),\n",
              " (16.65765765765766, ('void', [('RDF', 111), ('EDF', 43)])),\n",
              " (16.0, ('change', [('RDF', 25), ('EDF', 20)])),\n",
              " (15.210526315789474, ('acquisition', [('RDF', 19), ('EDF', 17)])),\n",
              " (15.058823529411764, ('accordance', [('RDF', 17), ('EDF', 16)])),\n",
              " (12.5, ('attempt', [('RDF', 18), ('EDF', 15)])),\n",
              " (12.25, ('bound', [('RDF', 16), ('EDF', 14)])),\n",
              " (12.01923076923077, ('connection', [('RDF', 52), ('EDF', 25)]))]"
            ]
          },
          "metadata": {},
          "execution_count": 35
        }
      ]
    },
    {
      "cell_type": "markdown",
      "source": [
        "# Workload 2\n",
        "Take all files in each category as a long single document and rank candidates based on RAKE score."
      ],
      "metadata": {
        "id": "O8XkSHsMMGEf"
      }
    },
    {
      "cell_type": "markdown",
      "source": [
        "### Phrase identification"
      ],
      "metadata": {
        "id": "Cz5XaFPdDtRT"
      }
    },
    {
      "cell_type": "code",
      "source": [
        "# (filename, (category, phrase_list)) of each file\n",
        "w2_phrase_list = dataset_lower.mapValues(phraseIdentification)\n",
        "w2_phrase_list.take(2)"
      ],
      "metadata": {
        "colab": {
          "base_uri": "https://localhost:8080/"
        },
        "id": "2i3f48xVMJAh",
        "outputId": "5058df45-2ee2-446e-b3fd-3c7f3e47d2a3"
      },
      "execution_count": 36,
      "outputs": [
        {
          "output_type": "execute_result",
          "data": {
            "text/plain": [
              "[('CybergyHoldingsInc_20140520_10-Q_EX-10.27_8605784_EX-10.27_Affiliate Agreement.pdf',\n",
              "  ('Governing Law',\n",
              "   ['agreement',\n",
              "    'accepted',\n",
              "    'company',\n",
              "    'state',\n",
              "    'nevada',\n",
              "    'shall',\n",
              "    'governed',\n",
              "    'construed',\n",
              "    'accordance',\n",
              "    'laws thereof',\n",
              "    'laws shall prevail',\n",
              "    'event',\n",
              "    'conflict'])),\n",
              " ('EuromediaHoldingsCorp_20070215_10SB12G_EX-10.B(01)_525118_EX-10.B(01)_Content License Agreement.pdf',\n",
              "  ('Governing Law',\n",
              "   ['agreement shall',\n",
              "    'governed',\n",
              "    'laws',\n",
              "    'province',\n",
              "    'ontario',\n",
              "    'federal laws',\n",
              "    'canada applicable therein',\n",
              "    'agreement',\n",
              "    'subject',\n",
              "    'laws',\n",
              "    'regulations',\n",
              "    'license conditions',\n",
              "    'decisions',\n",
              "    'canadian radiotelevision',\n",
              "    'telecommunications commission äúcrtcäù',\n",
              "    'municipal',\n",
              "    'provincial',\n",
              "    'federal governments',\n",
              "    'authorities',\n",
              "    'applicable',\n",
              "    'rogers andor licensor',\n",
              "    'force',\n",
              "    'hereafter adopted äúapplicable lawäù']))]"
            ]
          },
          "metadata": {},
          "execution_count": 36
        }
      ]
    },
    {
      "cell_type": "markdown",
      "source": [
        "Combine phraselists from different files based on their categories"
      ],
      "metadata": {
        "id": "8lVdZ0mp9NMZ"
      }
    },
    {
      "cell_type": "code",
      "source": [
        "# (category, phrase_list) of each category\n",
        "w2_combined_phraseList = w2_phrase_list.values().reduceByKey(lambda w1,w2: w1+w2)\n",
        "w2_combined_phraseList.count()"
      ],
      "metadata": {
        "colab": {
          "base_uri": "https://localhost:8080/"
        },
        "id": "lqUjHRve9e6n",
        "outputId": "29d1e5a5-f56e-4218-e3fc-07db0adf098a"
      },
      "execution_count": 37,
      "outputs": [
        {
          "output_type": "execute_result",
          "data": {
            "text/plain": [
              "3"
            ]
          },
          "metadata": {},
          "execution_count": 37
        }
      ]
    },
    {
      "cell_type": "markdown",
      "source": [
        "### Word score caculation"
      ],
      "metadata": {
        "id": "T1yS7AUO6av9"
      }
    },
    {
      "cell_type": "code",
      "source": [
        "# (category, (phrase_list ,dict(word, score))) of each category\n",
        "w2_wordScore = w2_combined_phraseList.mapValues(wordScore)\n",
        "w2_wordScore.values().values().take(1)"
      ],
      "metadata": {
        "colab": {
          "base_uri": "https://localhost:8080/"
        },
        "id": "l2P9i9Lk9G1W",
        "outputId": "4f3619a0-980c-4f8f-f597-2c3b0bdcf054"
      },
      "execution_count": 38,
      "outputs": [
        {
          "output_type": "execute_result",
          "data": {
            "text/plain": [
              "[{'abide': 1.0,\n",
              "  'accept': 2.0,\n",
              "  'acceptance': 1.0,\n",
              "  'accepted': 1.0,\n",
              "  'accordance': 1.0033898305084745,\n",
              "  'according': 1.9285714285714286,\n",
              "  'accordingly': 1.0,\n",
              "  'acknowledgments': 2.0,\n",
              "  'act': 2.8181818181818183,\n",
              "  'action': 2.272727272727273,\n",
              "  'actions': 2.6666666666666665,\n",
              "  'acts': 1.0,\n",
              "  'actual': 2.0,\n",
              "  'addendum': 1.0,\n",
              "  'adopted': 4.0,\n",
              "  'affecting': 2.0,\n",
              "  'affiliate': 2.0,\n",
              "  'affiliates': 1.0,\n",
              "  'africa': 2.0,\n",
              "  'agent': 2.0,\n",
              "  'agree': 2.2666666666666666,\n",
              "  'agreed': 2.5,\n",
              "  'agreement': 1.631027253668763,\n",
              "  'agreements': 2.0,\n",
              "  'agrees': 2.0,\n",
              "  'airsopure': 1.0,\n",
              "  'alabama': 1.0,\n",
              "  'alexandria': 1.0,\n",
              "  'also': 3.0,\n",
              "  'amended': 1.5,\n",
              "  'amendment': 1.5555555555555556,\n",
              "  'amendments': 2.25,\n",
              "  'america': 1.0,\n",
              "  'american': 3.0,\n",
              "  'among': 3.0,\n",
              "  'andor': 2.75,\n",
              "  'angeles': 3.0,\n",
              "  'another': 2.1875,\n",
              "  'antonio': 2.0,\n",
              "  'appellate': 2.0,\n",
              "  'applicability': 1.0,\n",
              "  'applicable': 2.1923076923076925,\n",
              "  'application': 1.1764705882352942,\n",
              "  'applied': 1.125,\n",
              "  'applies': 3.0,\n",
              "  'apply': 2.3333333333333335,\n",
              "  'applying': 1.5,\n",
              "  'appointed': 2.0,\n",
              "  'arbitrability': 1.0,\n",
              "  'arbitrate': 3.0,\n",
              "  'arbitration': 1.8461538461538463,\n",
              "  'arbitrators': 2.0,\n",
              "  'arise': 1.6666666666666667,\n",
              "  'arising': 2.018867924528302,\n",
              "  'arizona': 2.2,\n",
              "  'arkansas': 1.0,\n",
              "  'arlington': 1.0,\n",
              "  'assignable': 1.0,\n",
              "  'assignment': 1.6666666666666667,\n",
              "  'association': 3.0,\n",
              "  'attachment': 1.0,\n",
              "  'attorn': 1.6666666666666667,\n",
              "  'attorney': 2.0,\n",
              "  'attorns': 4.0,\n",
              "  'australia': 1.0,\n",
              "  'authorities': 1.0,\n",
              "  'authorization': 1.0,\n",
              "  'available': 2.0,\n",
              "  'bankruptcy': 2.0,\n",
              "  'based': 2.6,\n",
              "  'become': 4.0,\n",
              "  'bexar': 2.0,\n",
              "  'binding': 1.6666666666666667,\n",
              "  'bkc': 1.0,\n",
              "  'body': 1.2,\n",
              "  'borough': 1.0,\n",
              "  'breach': 1.5454545454545454,\n",
              "  'british': 2.1666666666666665,\n",
              "  'brought': 2.125,\n",
              "  'business': 2.0,\n",
              "  'california': 1.6,\n",
              "  'call': 1.0,\n",
              "  'canada': 1.8461538461538463,\n",
              "  'canadian': 2.0,\n",
              "  'carolina': 2.0,\n",
              "  'case': 2.0,\n",
              "  'cases': 1.0,\n",
              "  'cause': 1.5555555555555556,\n",
              "  'causes': 1.0,\n",
              "  'chamber': 2.0,\n",
              "  'china': 1.625,\n",
              "  'choice': 1.2045454545454546,\n",
              "  'choiceof': 3.0,\n",
              "  'choiceoflaw': 2.5,\n",
              "  'circuit': 2.0,\n",
              "  'cisg': 2.0,\n",
              "  'city': 1.6666666666666667,\n",
              "  'claim': 1.6666666666666667,\n",
              "  'claims': 1.2142857142857142,\n",
              "  'client': 1.0,\n",
              "  'code': 2.0,\n",
              "  'collateral': 4.0,\n",
              "  'colombia': 1.0,\n",
              "  'colorado': 1.5555555555555556,\n",
              "  'columbia': 2.076923076923077,\n",
              "  'commerce': 1.0,\n",
              "  'commission': 3.0,\n",
              "  'common': 3.5,\n",
              "  'commonwealth': 1.0,\n",
              "  'company': 1.5,\n",
              "  'companyrepairer': 2.0,\n",
              "  'competent': 2.0,\n",
              "  'comware': 2.0,\n",
              "  'concerning': 2.0,\n",
              "  'conditions': 1.5,\n",
              "  'conducted': 1.0,\n",
              "  'conflict': 1.1083333333333334,\n",
              "  'conflictoflaw': 2.5,\n",
              "  'conflictoflaws': 1.6666666666666667,\n",
              "  'conflicts': 1.105263157894737,\n",
              "  'conflictsoflaw': 2.0,\n",
              "  'connected': 2.0,\n",
              "  'connecticut': 1.0,\n",
              "  'connection': 1.0714285714285714,\n",
              "  'consent': 2.0,\n",
              "  'consents': 2.0,\n",
              "  'constitutes': 1.0,\n",
              "  'constructed': 1.0,\n",
              "  'construction': 1.088235294117647,\n",
              "  'construed': 1.053763440860215,\n",
              "  'consulting': 3.0,\n",
              "  'contemplated': 3.6,\n",
              "  'contemplates': 1.0,\n",
              "  'contract': 1.2307692307692308,\n",
              "  'contracted': 1.5,\n",
              "  'contracts': 1.6666666666666667,\n",
              "  'contractual': 2.0,\n",
              "  'contrary': 1.0,\n",
              "  'control': 3.0,\n",
              "  'controlled': 1.0,\n",
              "  'controversies': 2.0,\n",
              "  'controversy': 1.0,\n",
              "  'convention': 2.727272727272727,\n",
              "  'copyright': 2.0,\n",
              "  'corporation': 2.0,\n",
              "  'country': 1.0,\n",
              "  'county': 2.3333333333333335,\n",
              "  'court': 1.8571428571428572,\n",
              "  'courts': 1.7777777777777777,\n",
              "  'covenants': 1.0,\n",
              "  'cremer': 1.0,\n",
              "  'currently': 4.0,\n",
              "  'dakota': 2.0,\n",
              "  'date': 2.0,\n",
              "  'dealing': 1.3333333333333333,\n",
              "  'decisional': 2.0,\n",
              "  'decisions': 1.2,\n",
              "  'declare': 3.0,\n",
              "  'deem': 3.0,\n",
              "  'deemed': 1.2222222222222223,\n",
              "  'defined': 1.0,\n",
              "  'delaware': 1.7142857142857142,\n",
              "  'delhi': 3.0,\n",
              "  'delivered': 1.0,\n",
              "  'determinable': 2.0,\n",
              "  'determined': 1.1818181818181819,\n",
              "  'developer': 1.0,\n",
              "  'development': 3.0,\n",
              "  'dgcl': 1.0,\n",
              "  'different': 2.0,\n",
              "  'direct': 1.6666666666666667,\n",
              "  'directly': 3.0,\n",
              "  'discussions': 2.0,\n",
              "  'dispute': 1.72,\n",
              "  'disputes': 2.0869565217391304,\n",
              "  'disregarding': 1.0,\n",
              "  'distribution': 1.5,\n",
              "  'distributor': 2.0,\n",
              "  'district': 2.0,\n",
              "  'division': 3.0,\n",
              "  'doctrine': 2.0,\n",
              "  'doctrines': 3.0,\n",
              "  'documents': 1.0,\n",
              "  'domestic': 2.0,\n",
              "  'duties': 1.0,\n",
              "  'effect': 2.927536231884058,\n",
              "  'effective': 2.0,\n",
              "  'either': 3.25,\n",
              "  'enforce': 1.0,\n",
              "  'enforceability': 1.75,\n",
              "  'enforceable': 1.0,\n",
              "  'enforced': 1.119047619047619,\n",
              "  'enforcement': 1.0,\n",
              "  'england': 1.1428571428571428,\n",
              "  'english': 1.9,\n",
              "  'enter': 2.0,\n",
              "  'entered': 1.4444444444444444,\n",
              "  'entering': 1.0,\n",
              "  'entire': 2.0,\n",
              "  'entirely': 2.923076923076923,\n",
              "  'equity': 1.3333333333333333,\n",
              "  'erisa': 2.0,\n",
              "  'especially': 1.0,\n",
              "  'established': 1.0,\n",
              "  'even': 1.0,\n",
              "  'event': 1.0,\n",
              "  'except': 1.1538461538461537,\n",
              "  'excite': 1.0,\n",
              "  'excluding': 1.4074074074074074,\n",
              "  'exclusion': 1.0,\n",
              "  'exclusive': 2.125,\n",
              "  'exclusively': 2.0,\n",
              "  'executed': 1.9090909090909092,\n",
              "  'execution': 1.2142857142857142,\n",
              "  'existence': 1.0,\n",
              "  'expiration': 1.0,\n",
              "  'expressly': 3.3333333333333335,\n",
              "  'extent': 1.6666666666666667,\n",
              "  'federal': 2.074074074074074,\n",
              "  'filed': 1.5,\n",
              "  'finally': 2.0,\n",
              "  'first': 3.0,\n",
              "  'fit': 3.0,\n",
              "  'florida': 1.5,\n",
              "  'force': 2.0,\n",
              "  'foreign': 2.0,\n",
              "  'formation': 2.4,\n",
              "  'formed': 2.0,\n",
              "  'fort': 3.0,\n",
              "  'forth': 3.0,\n",
              "  'forum': 2.0,\n",
              "  'france': 1.0,\n",
              "  'franchise': 2.6666666666666665,\n",
              "  'franchised': 2.0,\n",
              "  'franchisee': 1.0,\n",
              "  'franchisees': 1.0,\n",
              "  'franchises': 1.0,\n",
              "  'franchisor': 1.0,\n",
              "  'franchisoräôs': 4.0,\n",
              "  'fully': 2.0,\n",
              "  'fund': 3.0,\n",
              "  'general': 3.0,\n",
              "  'generally': 2.0,\n",
              "  'georgia': 1.2857142857142858,\n",
              "  'german': 4.0,\n",
              "  'germany': 2.3333333333333335,\n",
              "  'giving': 3.3207547169811322,\n",
              "  'goods': 1.1111111111111112,\n",
              "  'govern': 2.5454545454545454,\n",
              "  'governed': 1.0334190231362468,\n",
              "  'governing': 2.3,\n",
              "  'governments': 2.0,\n",
              "  'governs': 1.0,\n",
              "  'granted': 1.25,\n",
              "  'growing': 1.0,\n",
              "  'guinea': 3.0,\n",
              "  'haifa': 1.0,\n",
              "  'harris': 2.0,\n",
              "  'headquarters': 4.0,\n",
              "  'heard': 1.0,\n",
              "  'hereafter': 4.0,\n",
              "  'hereby': 3.125,\n",
              "  'herefrom': 3.0,\n",
              "  'herein': 3.5,\n",
              "  'hereof': 2.5,\n",
              "  'hereto': 2.6,\n",
              "  'hereunder': 2.8333333333333335,\n",
              "  'herewith': 3.0,\n",
              "  'hong': 2.5,\n",
              "  'however': 1.25,\n",
              "  'hyatt': 2.0,\n",
              "  'illinois': 1.6363636363636365,\n",
              "  'implementation': 1.0,\n",
              "  'inaccordance': 2.0,\n",
              "  'inapplicable': 1.0,\n",
              "  'including': 1.96,\n",
              "  'inconsistent': 2.5,\n",
              "  'incorporation': 1.0,\n",
              "  'incoterms': 1.0,\n",
              "  'independently': 4.0,\n",
              "  'india': 1.0,\n",
              "  'indiana': 1.6666666666666667,\n",
              "  'indicated': 2.0,\n",
              "  'indirectly': 3.0,\n",
              "  'infringement': 1.0,\n",
              "  'initiate': 4.0,\n",
              "  'initiated': 1.0,\n",
              "  'injunction': 1.0,\n",
              "  'injunctive': 2.0,\n",
              "  'instance': 3.0,\n",
              "  'instead': 1.0,\n",
              "  'instituted': 1.0,\n",
              "  'intellectual': 3.2857142857142856,\n",
              "  'interests': 2.0,\n",
              "  'interim': 3.0,\n",
              "  'internal': 2.1481481481481484,\n",
              "  'international': 2.1666666666666665,\n",
              "  'interpretation': 1.0681818181818181,\n",
              "  'interpreted': 1.1176470588235294,\n",
              "  'inventorship': 1.0,\n",
              "  'investment': 3.0,\n",
              "  'involve': 1.0,\n",
              "  'iowa': 1.0,\n",
              "  'irrespective': 1.0,\n",
              "  'irrevocably': 3.0,\n",
              "  'israel': 1.1111111111111112,\n",
              "  'issues': 1.8571428571428572,\n",
              "  'italian': 2.0,\n",
              "  'japan': 1.0,\n",
              "  'jersey': 2.0,\n",
              "  'joinder': 2.0,\n",
              "  'joint': 2.5,\n",
              "  'judgment': 2.0,\n",
              "  'judicial': 2.0,\n",
              "  'jurisdiction': 1.393939393939394,\n",
              "  'jurisdictional': 2.0,\n",
              "  'jurisdictions': 1.0,\n",
              "  'jurisdictionäôs': 3.0,\n",
              "  'kansas': 1.0,\n",
              "  'kazakhstan': 3.0,\n",
              "  'kentucky': 3.0,\n",
              "  'kong': 2.5,\n",
              "  'lanham': 2.0,\n",
              "  'law': 1.883248730964467,\n",
              "  'laws': 1.3042071197411003,\n",
              "  'lawsuit': 2.0,\n",
              "  'lawäù': 4.0,\n",
              "  'lead': 3.0,\n",
              "  'legal': 2.5,\n",
              "  'legislation': 2.0,\n",
              "  'letter': 1.5,\n",
              "  'liabilities': 1.0,\n",
              "  'license': 2.5,\n",
              "  'licensor': 3.0,\n",
              "  'limitation': 2.6666666666666665,\n",
              "  'limitations': 2.0,\n",
              "  'limited': 2.0,\n",
              "  'litigated': 1.0,\n",
              "  'litigation': 2.0,\n",
              "  'local': 2.0,\n",
              "  'located': 2.0,\n",
              "  'loco': 2.0,\n",
              "  'london': 1.0,\n",
              "  'los': 3.0,\n",
              "  'louisiana': 1.0,\n",
              "  'made': 1.8181818181818181,\n",
              "  'mandate': 2.0,\n",
              "  'mandatorily': 2.0,\n",
              "  'manhattan': 1.0,\n",
              "  'manual': 1.0,\n",
              "  'maricopa': 2.0,\n",
              "  'maryland': 2.25,\n",
              "  'massachusetts': 2.0,\n",
              "  'matter': 2.0,\n",
              "  'matters': 2.066666666666667,\n",
              "  'maximum': 3.0,\n",
              "  'may': 2.2,\n",
              "  'mclean': 1.0,\n",
              "  'members': 2.0,\n",
              "  'merits': 1.0,\n",
              "  'met': 4.0,\n",
              "  'miami': 1.0,\n",
              "  'miaoli': 3.0,\n",
              "  'michigan': 1.0,\n",
              "  'might': 2.375,\n",
              "  'minnesota': 1.0,\n",
              "  'missouri': 1.0,\n",
              "  'modification': 1.0,\n",
              "  'municipal': 1.0,\n",
              "  'must': 1.0,\n",
              "  'national': 2.0,\n",
              "  'nations': 3.0,\n",
              "  'nature': 1.0,\n",
              "  'negotiated': 1.0,\n",
              "  'negotiation': 1.0,\n",
              "  'netgear': 1.0,\n",
              "  'netgrocer': 1.0,\n",
              "  'netherlands': 1.0,\n",
              "  'network': 2.0,\n",
              "  'nevada': 1.7,\n",
              "  'new': 2.466666666666667,\n",
              "  'noncontractual': 2.7142857142857144,\n",
              "  'nonexclusive': 2.0,\n",
              "  'nongerman': 2.0,\n",
              "  'north': 2.0,\n",
              "  'northern': 2.0,\n",
              "  'nothing': 1.0,\n",
              "  'notwithstanding': 1.3846153846153846,\n",
              "  'nova': 2.0,\n",
              "  'obligations': 1.5625,\n",
              "  'occurs': 2.0,\n",
              "  'offer': 1.0,\n",
              "  'oftexas': 4.0,\n",
              "  'ofthe': 4.0,\n",
              "  'ofthis': 3.0,\n",
              "  'ohio': 1.5,\n",
              "  'oklahoma': 3.0,\n",
              "  'oma': 1.25,\n",
              "  'omitted': 2.1666666666666665,\n",
              "  'one': 1.0,\n",
              "  'ontario': 1.0769230769230769,\n",
              "  'operation': 1.0,\n",
              "  'opportunities': 2.0,\n",
              "  'order': 2.0,\n",
              "  'orlando': 1.0,\n",
              "  'otherwise': 2.4615384615384617,\n",
              "  'pages': 1.0,\n",
              "  'papua': 3.0,\n",
              "  'paragraph': 1.0,\n",
              "  'paris': 1.0,\n",
              "  'participants': 2.0,\n",
              "  'particular': 2.0,\n",
              "  'parties': 2.028169014084507,\n",
              "  'parts': 1.0,\n",
              "  'party': 3.0,\n",
              "  'patent': 1.5,\n",
              "  'patents': 1.3333333333333333,\n",
              "  'pecos': 2.0,\n",
              "  'pennsylvania': 2.0,\n",
              "  'peoples': 2.0,\n",
              "  'peopleäôs': 2.0,\n",
              "  'performance': 1.162162162162162,\n",
              "  'performed': 2.4358974358974357,\n",
              "  'period': 3.0,\n",
              "  'permit': 1.3333333333333333,\n",
              "  'personal': 2.0,\n",
              "  'pertaining': 3.0,\n",
              "  'physical': 2.0,\n",
              "  'place': 1.2,\n",
              "  'places': 1.0,\n",
              "  'playa': 2.0,\n",
              "  'poland': 1.0,\n",
              "  'pollo': 2.0,\n",
              "  'power': 2.0,\n",
              "  'practicable': 3.0,\n",
              "  'prc': 1.5,\n",
              "  'preempted': 2.0,\n",
              "  'prevail': 2.0,\n",
              "  'prevent': 3.0,\n",
              "  'pricing': 3.0,\n",
              "  'principals': 1.0,\n",
              "  'principle': 1.2,\n",
              "  'principles': 1.8125,\n",
              "  'prior': 2.0,\n",
              "  'private': 4.0,\n",
              "  'proceeding': 2.0,\n",
              "  'proceedings': 1.5,\n",
              "  'products': 1.0,\n",
              "  'promulgated': 1.0,\n",
              "  'proper': 3.0,\n",
              "  'properly': 2.0,\n",
              "  'property': 3.2857142857142856,\n",
              "  'protect': 1.0,\n",
              "  'provided': 1.5454545454545454,\n",
              "  'provider': 2.0,\n",
              "  'province': 1.0,\n",
              "  'provincial': 1.5,\n",
              "  'provision': 1.8181818181818181,\n",
              "  'provisions': 2.130434782608696,\n",
              "  'publicly': 2.0,\n",
              "  'published': 2.0,\n",
              "  'publishers': 2.0,\n",
              "  'purchase': 1.5,\n",
              "  'purposes': 1.5,\n",
              "  'pursuant': 1.7272727272727273,\n",
              "  'purview': 1.0,\n",
              "  'question': 1.0,\n",
              "  'questions': 1.8333333333333333,\n",
              "  'radiotelevision': 2.0,\n",
              "  'rather': 1.0,\n",
              "  'recourse': 3.0,\n",
              "  'refer': 2.1666666666666665,\n",
              "  'reference': 2.6,\n",
              "  'regard': 2.608695652173913,\n",
              "  'regarding': 2.6666666666666665,\n",
              "  'regardless': 1.2,\n",
              "  'regards': 2.0,\n",
              "  'regulating': 2.0,\n",
              "  'regulation': 1.0,\n",
              "  'regulations': 1.3333333333333333,\n",
              "  'regulatory': 1.0,\n",
              "  'relate': 1.0,\n",
              "  'related': 1.7692307692307692,\n",
              "  'relating': 1.8,\n",
              "  'relation': 1.0,\n",
              "  'relations': 2.375,\n",
              "  'relationship': 1.375,\n",
              "  'relevant': 3.0,\n",
              "  'relief': 2.0,\n",
              "  'remarketing': 2.0,\n",
              "  'remedies': 1.0,\n",
              "  'representation': 1.0,\n",
              "  'republic': 1.7142857142857142,\n",
              "  'require': 2.1818181818181817,\n",
              "  'requirements': 2.0,\n",
              "  'requires': 4.0,\n",
              "  'resale': 1.0,\n",
              "  'residence': 1.2,\n",
              "  'residents': 2.0,\n",
              "  'resolution': 1.6,\n",
              "  'resolved': 1.0,\n",
              "  'respect': 1.2222222222222223,\n",
              "  'respective': 2.0,\n",
              "  'respects': 1.0833333333333333,\n",
              "  'restaurant': 2.0,\n",
              "  'restrict': 3.0,\n",
              "  'result': 2.142857142857143,\n",
              "  'resulting': 1.0,\n",
              "  'review': 1.0,\n",
              "  'revision': 3.0,\n",
              "  'revoking': 1.0,\n",
              "  'right': 2.6666666666666665,\n",
              "  'rights': 1.1923076923076923,\n",
              "  'roc': 1.0,\n",
              "  'rogers': 3.0,\n",
              "  'rule': 1.7692307692307692,\n",
              "  'rules': 1.7692307692307692,\n",
              "  'said': 3.3333333333333335,\n",
              "  'sale': 1.75,\n",
              "  'san': 2.0,\n",
              "  'save': 1.25,\n",
              "  'schedules': 3.0,\n",
              "  'scope': 1.0,\n",
              "  'scotia': 2.0,\n",
              "  'second': 3.0,\n",
              "  'section': 1.3333333333333333,\n",
              "  'sections': 1.0,\n",
              "  'seeking': 3.0,\n",
              "  'set': 3.0,\n",
              "  'sets': 3.0,\n",
              "  'settled': 1.5,\n",
              "  'settlement': 1.0,\n",
              "  'shad': 2.0,\n",
              "  'shall': 2.0615384615384613,\n",
              "  'shipper': 3.0,\n",
              "  'siate': 1.0,\n",
              "  'signed': 2.0,\n",
              "  'similar': 2.0,\n",
              "  'since': 1.0,\n",
              "  'sitting': 3.0,\n",
              "  'situs': 1.0,\n",
              "  'software': 2.5,\n",
              "  'solely': 3.0,\n",
              "  'south': 2.0,\n",
              "  'spain': 1.0,\n",
              "  'specifically': 2.0,\n",
              "  'state': 1.1023809523809525,\n",
              "  'states': 2.2962962962962963,\n",
              "  'stateäôs': 2.0,\n",
              "  'statute': 1.0,\n",
              "  'statutes': 2.0,\n",
              "  'statutory': 1.6666666666666667,\n",
              "  'subject': 1.5454545454545454,\n",
              "  'submit': 1.9090909090909092,\n",
              "  'subsequent': 3.0,\n",
              "  'subsistence': 1.0,\n",
              "  'substantive': 2.074074074074074,\n",
              "  'suit': 1.0,\n",
              "  'supersede': 2.0,\n",
              "  'superseded': 2.0,\n",
              "  'supply': 3.0,\n",
              "  'swiss': 2.0,\n",
              "  'switzerland': 1.0,\n",
              "  'taiwan': 1.0,\n",
              "  'take': 1.5,\n",
              "  'takes': 4.0,\n",
              "  'tarrant': 2.0,\n",
              "  'taws': 2.0,\n",
              "  'telaviv': 1.0,\n",
              "  'telecommunications': 3.0,\n",
              "  'tennessee': 1.2,\n",
              "  'termination': 1.8571428571428572,\n",
              "  'terms': 1.3333333333333333,\n",
              "  'texas': 1.2439024390243902,\n",
              "  'text': 2.0,\n",
              "  'thencurrent': 4.0,\n",
              "  'therein': 3.076923076923077,\n",
              "  'thereof': 2.825,\n",
              "  'thereto': 3.25,\n",
              "  'thereunder': 3.5,\n",
              "  'therewith': 2.0,\n",
              "  'time': 1.0,\n",
              "  'tort': 1.0,\n",
              "  'trademark': 3.5,\n",
              "  'trademarks': 1.0,\n",
              "  'transactions': 2.4615384615384617,\n",
              "  'transporter': 1.0,\n",
              "  'ultragenyx': 2.0,\n",
              "  'unconditionally': 1.0,\n",
              "  'united': 2.4594594594594597,\n",
              "  'unless': 2.3333333333333335,\n",
              "  'upon': 2.75,\n",
              "  'usa': 1.5483870967741935,\n",
              "  'valid': 4.0,\n",
              "  'validation': 1.0,\n",
              "  'validity': 1.1666666666666667,\n",
              "  'venture': 2.3333333333333335,\n",
              "  'venturers': 3.0,\n",
              "  'venue': 1.3,\n",
              "  'victoria': 1.0,\n",
              "  'vienna': 2.0,\n",
              "  'virginia': 1.3636363636363635,\n",
              "  'wales': 1.0,\n",
              "  'warrant': 2.0,\n",
              "  'warranty': 1.5,\n",
              "  'washington': 1.3333333333333333,\n",
              "  'whether': 2.272727272727273,\n",
              "  'whole': 3.0,\n",
              "  'wholly': 2.6923076923076925,\n",
              "  'wisconsin': 1.0,\n",
              "  'within': 2.814814814814815,\n",
              "  'without': 2.810185185185185,\n",
              "  'worth': 3.0,\n",
              "  'would': 2.2413793103448274,\n",
              "  'writing': 1.5,\n",
              "  'writings': 1.0,\n",
              "  'written': 1.5,\n",
              "  'york': 2.473684210526316,\n",
              "  'äúapplicable': 4.0,\n",
              "  'äúcrtcäù': 3.0,\n",
              "  'äúventureäù': 1.0}]"
            ]
          },
          "metadata": {},
          "execution_count": 38
        }
      ]
    },
    {
      "cell_type": "markdown",
      "source": [
        "### Candidate score caculation\n",
        "\n",
        "candidateScore2 to get the corresponding rdd KV pairs."
      ],
      "metadata": {
        "id": "J2oT1keRBHat"
      }
    },
    {
      "cell_type": "code",
      "source": [
        "def candidateScore2(rec):  \n",
        "  phrase_list = rec[1][0]\n",
        "  word_score = rec[1][1]\n",
        "  candidate_score = candidateScore(phrase_list, word_score)\n",
        "  return [(rec[0], candidate) for candidate in candidate_score.items()]"
      ],
      "metadata": {
        "id": "R0zdHg42CD7k"
      },
      "execution_count": 39,
      "outputs": []
    },
    {
      "cell_type": "code",
      "source": [
        "# (category, (candidate, rake_score))\n",
        "w2_rake = w2_wordScore.flatMap(candidateScore2)\n",
        "w2_rake.take(10)"
      ],
      "metadata": {
        "colab": {
          "base_uri": "https://localhost:8080/"
        },
        "id": "lLgDL9tFCbkP",
        "outputId": "6dc2b7ce-e046-4c6d-a08e-53f080b79a26"
      },
      "execution_count": 40,
      "outputs": [
        {
          "output_type": "execute_result",
          "data": {
            "text/plain": [
              "[('Governing Law', ('agreement', 1.631027253668763)),\n",
              " ('Governing Law', ('accepted', 1.0)),\n",
              " ('Governing Law', ('company', 1.5)),\n",
              " ('Governing Law', ('state', 1.1023809523809525)),\n",
              " ('Governing Law', ('nevada', 1.7)),\n",
              " ('Governing Law', ('shall', 2.0615384615384613)),\n",
              " ('Governing Law', ('governed', 1.0334190231362468)),\n",
              " ('Governing Law', ('construed', 1.053763440860215)),\n",
              " ('Governing Law', ('accordance', 1.0033898305084745)),\n",
              " ('Governing Law', ('laws', 1.3042071197411003))]"
            ]
          },
          "metadata": {},
          "execution_count": 40
        }
      ]
    },
    {
      "cell_type": "markdown",
      "source": [
        "### Top 20 keywords\n",
        "\n",
        "Top 20 keywords from each category based on RAKE score."
      ],
      "metadata": {
        "id": "MHZRYM1dCpuV"
      }
    },
    {
      "cell_type": "code",
      "source": [
        "# Governing\n",
        "# (candidate, rake_score)\n",
        "w2_rake_gov = w2_rake.filter(lambda rec: rec[0] == category_list[0]).values().sortBy(lambda x:x[1], False)\n",
        "w2_rake_gov.take(20)"
      ],
      "metadata": {
        "colab": {
          "base_uri": "https://localhost:8080/"
        },
        "id": "WoIAkMpqC5nM",
        "outputId": "c85bde7a-f20c-4d0b-e5ec-e27a3420fac0"
      },
      "execution_count": 41,
      "outputs": [
        {
          "output_type": "execute_result",
          "data": {
            "text/plain": [
              "[('hereafter adopted äúapplicable lawäù', 16.0),\n",
              " ('franchisoräôs thencurrent headquarters currently', 16.0),\n",
              " ('either party herein initiate', 13.75),\n",
              " ('met independently without reference', 13.410185185185185),\n",
              " ('intellectual property right applies', 12.238095238095237),\n",
              " ('german private international law', 12.049915397631134),\n",
              " ('parties hereto expressly attorns', 11.961502347417841),\n",
              " ('transactions contemplated hereby andor', 11.936538461538461),\n",
              " ('agreement shall become valid', 11.692565715207223),\n",
              " ('transactions contemplated herein shall', 11.623076923076923),\n",
              " ('agreement takes effect upon', 11.30856348555282),\n",
              " ('maryland without giving effect', 11.308476134050377),\n",
              " ('transactions contemplated hereby shall', 11.248076923076923),\n",
              " ('without omitted giving effect', 11.225142800717041),\n",
              " ('issues collateral thereto shall', 11.168681318681319),\n",
              " ('united states trademark act', 11.073937573937574),\n",
              " ('massachusetts without giving effect', 11.058476134050377),\n",
              " ('pennsylvania without giving effect', 11.058476134050377),\n",
              " ('intellectual property laws relevant', 10.875635691169672),\n",
              " ('either party may apply', 10.783333333333333)]"
            ]
          },
          "metadata": {},
          "execution_count": 41
        }
      ]
    },
    {
      "cell_type": "code",
      "source": [
        "# Change of control\n",
        "# (candidate, rake_score)\n",
        "w2_rake_change = w2_rake.filter(lambda rec: rec[0] == category_list[1]).values().sortBy(lambda x:x[1], False)\n",
        "w2_rake_change.take(20)"
      ],
      "metadata": {
        "colab": {
          "base_uri": "https://localhost:8080/"
        },
        "id": "QFZBkNYVC62g",
        "outputId": "eb3bb8bd-8e63-4509-9f0a-01e52e2e1769"
      },
      "execution_count": 42,
      "outputs": [
        {
          "output_type": "execute_result",
          "data": {
            "text/plain": [
              "[('reasonable detail based upon', 13.444444444444445),\n",
              " ('enable sellerexxonmobil selling affiliate', 13.109677419354838),\n",
              " ('posttermination royalty term therefor', 13.083333333333334),\n",
              " ('smiths prior written approval', 12.85562119584676),\n",
              " ('without thereby becoming liable', 12.804545454545455),\n",
              " ('golf instruction related products', 12.566666666666666),\n",
              " ('ehave companion solution within', 12.441176470588236),\n",
              " ('spinco house marks whether', 12.385964912280702),\n",
              " ('agents prior written consent', 12.333763272349492),\n",
              " ('providing ebix written notice', 12.326698867421719),\n",
              " ('dova hereunder whether accruing', 12.271381578947368),\n",
              " ('sellerexxonmobil selling affiliates shall', 12.227113641155386),\n",
              " ('upon sending written notice', 12.146143311866163),\n",
              " ('vss outstanding voting securities', 12.106280193236715),\n",
              " ('first refusal shall cease', 12.087021475256769),\n",
              " ('janssens confidential information hereunder', 12.052083333333334),\n",
              " ('maintenance services performed prior', 12.035445757250269),\n",
              " ('advertising agency representing tda', 12.0),\n",
              " ('authority granted hereunder shall', 11.962914332399626),\n",
              " ('sellerexxonmobil selling affiliates elects', 11.959139784946236)]"
            ]
          },
          "metadata": {},
          "execution_count": 42
        }
      ]
    },
    {
      "cell_type": "code",
      "source": [
        "# Anti-assignment\n",
        "# (candidate, rake_score)\n",
        "w2_rake_anti = w2_rake.filter(lambda rec: rec[0] == category_list[1]).values().sortBy(lambda x:x[1], False)\n",
        "w2_rake_anti.take(20)"
      ],
      "metadata": {
        "colab": {
          "base_uri": "https://localhost:8080/"
        },
        "id": "7usy9xKvC6hL",
        "outputId": "455525b0-503f-4cb3-8fc0-4c9bfca2dd7d"
      },
      "execution_count": 43,
      "outputs": [
        {
          "output_type": "execute_result",
          "data": {
            "text/plain": [
              "[('reasonable detail based upon', 13.444444444444445),\n",
              " ('enable sellerexxonmobil selling affiliate', 13.109677419354838),\n",
              " ('posttermination royalty term therefor', 13.083333333333334),\n",
              " ('smiths prior written approval', 12.85562119584676),\n",
              " ('without thereby becoming liable', 12.804545454545455),\n",
              " ('golf instruction related products', 12.566666666666666),\n",
              " ('ehave companion solution within', 12.441176470588236),\n",
              " ('spinco house marks whether', 12.385964912280702),\n",
              " ('agents prior written consent', 12.333763272349492),\n",
              " ('providing ebix written notice', 12.326698867421719),\n",
              " ('dova hereunder whether accruing', 12.271381578947368),\n",
              " ('sellerexxonmobil selling affiliates shall', 12.227113641155386),\n",
              " ('upon sending written notice', 12.146143311866163),\n",
              " ('vss outstanding voting securities', 12.106280193236715),\n",
              " ('first refusal shall cease', 12.087021475256769),\n",
              " ('janssens confidential information hereunder', 12.052083333333334),\n",
              " ('maintenance services performed prior', 12.035445757250269),\n",
              " ('advertising agency representing tda', 12.0),\n",
              " ('authority granted hereunder shall', 11.962914332399626),\n",
              " ('sellerexxonmobil selling affiliates elects', 11.959139784946236)]"
            ]
          },
          "metadata": {},
          "execution_count": 43
        }
      ]
    }
  ]
}
