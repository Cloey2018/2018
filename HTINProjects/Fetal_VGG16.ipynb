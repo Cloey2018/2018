{
 "cells": [
  {
   "cell_type": "code",
   "execution_count": 38,
   "metadata": {},
   "outputs": [],
   "source": [
    "import pandas as pd\n",
    "import numpy as np\n",
    "\n",
    "InfoPath = \"FETAL_PLANES_DB_data.csv\"\n",
    "\n",
    "image_info = pd.read_csv(InfoPath, header = 0, sep = ';')"
   ]
  },
  {
   "cell_type": "code",
   "execution_count": 8,
   "metadata": {},
   "outputs": [
    {
     "name": "stdout",
     "output_type": "stream",
     "text": [
      "(12400, 7)\n"
     ]
    }
   ],
   "source": [
    "print(image_info.shape)"
   ]
  },
  {
   "cell_type": "code",
   "execution_count": 9,
   "metadata": {},
   "outputs": [
    {
     "data": {
      "text/html": [
       "<div>\n",
       "<style scoped>\n",
       "    .dataframe tbody tr th:only-of-type {\n",
       "        vertical-align: middle;\n",
       "    }\n",
       "\n",
       "    .dataframe tbody tr th {\n",
       "        vertical-align: top;\n",
       "    }\n",
       "\n",
       "    .dataframe thead th {\n",
       "        text-align: right;\n",
       "    }\n",
       "</style>\n",
       "<table border=\"1\" class=\"dataframe\">\n",
       "  <thead>\n",
       "    <tr style=\"text-align: right;\">\n",
       "      <th></th>\n",
       "      <th>Image_name</th>\n",
       "      <th>Patient_num</th>\n",
       "      <th>Plane</th>\n",
       "      <th>Brain_plane</th>\n",
       "      <th>Operator</th>\n",
       "      <th>US_Machine</th>\n",
       "      <th>Train</th>\n",
       "    </tr>\n",
       "  </thead>\n",
       "  <tbody>\n",
       "    <tr>\n",
       "      <th>0</th>\n",
       "      <td>Patient00001_Plane1_1_of_15</td>\n",
       "      <td>1</td>\n",
       "      <td>Other</td>\n",
       "      <td>Not A Brain</td>\n",
       "      <td>Other</td>\n",
       "      <td>Aloka</td>\n",
       "      <td>1</td>\n",
       "    </tr>\n",
       "    <tr>\n",
       "      <th>1</th>\n",
       "      <td>Patient00001_Plane1_2_of_15</td>\n",
       "      <td>1</td>\n",
       "      <td>Other</td>\n",
       "      <td>Not A Brain</td>\n",
       "      <td>Other</td>\n",
       "      <td>Aloka</td>\n",
       "      <td>1</td>\n",
       "    </tr>\n",
       "    <tr>\n",
       "      <th>2</th>\n",
       "      <td>Patient00001_Plane1_3_of_15</td>\n",
       "      <td>1</td>\n",
       "      <td>Other</td>\n",
       "      <td>Not A Brain</td>\n",
       "      <td>Other</td>\n",
       "      <td>Aloka</td>\n",
       "      <td>1</td>\n",
       "    </tr>\n",
       "    <tr>\n",
       "      <th>3</th>\n",
       "      <td>Patient00001_Plane1_4_of_15</td>\n",
       "      <td>1</td>\n",
       "      <td>Other</td>\n",
       "      <td>Not A Brain</td>\n",
       "      <td>Other</td>\n",
       "      <td>Aloka</td>\n",
       "      <td>1</td>\n",
       "    </tr>\n",
       "    <tr>\n",
       "      <th>4</th>\n",
       "      <td>Patient00001_Plane1_5_of_15</td>\n",
       "      <td>1</td>\n",
       "      <td>Other</td>\n",
       "      <td>Not A Brain</td>\n",
       "      <td>Other</td>\n",
       "      <td>Aloka</td>\n",
       "      <td>1</td>\n",
       "    </tr>\n",
       "  </tbody>\n",
       "</table>\n",
       "</div>"
      ],
      "text/plain": [
       "                    Image_name  Patient_num  Plane  Brain_plane Operator  \\\n",
       "0  Patient00001_Plane1_1_of_15            1  Other  Not A Brain    Other   \n",
       "1  Patient00001_Plane1_2_of_15            1  Other  Not A Brain    Other   \n",
       "2  Patient00001_Plane1_3_of_15            1  Other  Not A Brain    Other   \n",
       "3  Patient00001_Plane1_4_of_15            1  Other  Not A Brain    Other   \n",
       "4  Patient00001_Plane1_5_of_15            1  Other  Not A Brain    Other   \n",
       "\n",
       "  US_Machine  Train   \n",
       "0      Aloka       1  \n",
       "1      Aloka       1  \n",
       "2      Aloka       1  \n",
       "3      Aloka       1  \n",
       "4      Aloka       1  "
      ]
     },
     "execution_count": 9,
     "metadata": {},
     "output_type": "execute_result"
    }
   ],
   "source": [
    "image_info.head()"
   ]
  },
  {
   "cell_type": "code",
   "execution_count": 33,
   "metadata": {},
   "outputs": [],
   "source": [
    "# sampling 100 images from each class, overall it would be 900 images\n",
    "np.random.seed(33)\n",
    "# other : 1\n",
    "image_other = image_info.loc[image_info['Plane'] == 'Other'].sample(n = 100)\n",
    "# abdomen : 2\n",
    "image_abdomen = image_info.loc[image_info['Plane'] == 'Fetal abdomen'].sample(n = 100)\n",
    "# femur : 3\n",
    "image_femur = image_info.loc[image_info['Plane'] == 'Fetal femur'].sample(n = 100)\n",
    "# thorax : 4\n",
    "image_thorax = image_info.loc[image_info['Plane'] == 'Fetal thorax'].sample(n = 100)\n",
    "# Mother cervix : 5\n",
    "image_cervix = image_info.loc[image_info['Plane'] == 'Maternal cervix'].sample(n = 100)\n",
    "# brain_thalamic : 6\n",
    "image_thalamic = image_info.loc[image_info['Brain_plane'] == 'Trans-thalamic'].sample(n = 100)\n",
    "# brain_cerebellum : 7\n",
    "image_cerebellum = image_info.loc[image_info['Brain_plane'] == 'Trans-cerebellum'].sample(n = 100)\n",
    "# brain_ventricular : 8\n",
    "image_ventricular = image_info.loc[image_info['Brain_plane'] == 'Trans-ventricular'].sample(n = 100)\n",
    "# brain_other : 9\n",
    "image_brain_other = image_info.loc[image_info['Brain_plane'] == 'Other'].sample(n = 100)"
   ]
  },
  {
   "cell_type": "code",
   "execution_count": 67,
   "metadata": {},
   "outputs": [
    {
     "name": "stderr",
     "output_type": "stream",
     "text": [
      "/Users/liziwei/anaconda3/lib/python3.6/site-packages/ipykernel_launcher.py:3: FutureWarning: Sorting because non-concatenation axis is not aligned. A future version\n",
      "of pandas will change to not sort by default.\n",
      "\n",
      "To accept the future behavior, pass 'sort=True'.\n",
      "\n",
      "To retain the current behavior and silence the warning, pass sort=False\n",
      "\n",
      "  This is separate from the ipykernel package so we can avoid doing imports until\n"
     ]
    }
   ],
   "source": [
    "# combine all samples together\n",
    "sample = pd.concat([image_other, image_abdomen, image_femur, image_thorax, image_cervix, image_thalamic,\n",
    "                    image_cerebellum, image_ventricular, image_brain_other, pd.DataFrame(columns = ['label'])])\n"
   ]
  },
  {
   "cell_type": "code",
   "execution_count": 68,
   "metadata": {},
   "outputs": [
    {
     "data": {
      "text/html": [
       "<div>\n",
       "<style scoped>\n",
       "    .dataframe tbody tr th:only-of-type {\n",
       "        vertical-align: middle;\n",
       "    }\n",
       "\n",
       "    .dataframe tbody tr th {\n",
       "        vertical-align: top;\n",
       "    }\n",
       "\n",
       "    .dataframe thead th {\n",
       "        text-align: right;\n",
       "    }\n",
       "</style>\n",
       "<table border=\"1\" class=\"dataframe\">\n",
       "  <thead>\n",
       "    <tr style=\"text-align: right;\">\n",
       "      <th></th>\n",
       "      <th>Brain_plane</th>\n",
       "      <th>Image_name</th>\n",
       "      <th>Operator</th>\n",
       "      <th>Patient_num</th>\n",
       "      <th>Plane</th>\n",
       "      <th>Train</th>\n",
       "      <th>US_Machine</th>\n",
       "      <th>label</th>\n",
       "    </tr>\n",
       "  </thead>\n",
       "  <tbody>\n",
       "    <tr>\n",
       "      <th>964</th>\n",
       "      <td>Not A Brain</td>\n",
       "      <td>Patient00041_Plane1_21_of_45</td>\n",
       "      <td>Other</td>\n",
       "      <td>41.0</td>\n",
       "      <td>Other</td>\n",
       "      <td>1.0</td>\n",
       "      <td>Aloka</td>\n",
       "      <td>1</td>\n",
       "    </tr>\n",
       "    <tr>\n",
       "      <th>802</th>\n",
       "      <td>Not A Brain</td>\n",
       "      <td>Patient00036_Plane1_22_of_39</td>\n",
       "      <td>Other</td>\n",
       "      <td>36.0</td>\n",
       "      <td>Other</td>\n",
       "      <td>1.0</td>\n",
       "      <td>Aloka</td>\n",
       "      <td>1</td>\n",
       "    </tr>\n",
       "    <tr>\n",
       "      <th>3759</th>\n",
       "      <td>Not A Brain</td>\n",
       "      <td>Patient00830_Plane1_3_of_49</td>\n",
       "      <td>Op. 2</td>\n",
       "      <td>830.0</td>\n",
       "      <td>Other</td>\n",
       "      <td>1.0</td>\n",
       "      <td>Voluson E6</td>\n",
       "      <td>1</td>\n",
       "    </tr>\n",
       "    <tr>\n",
       "      <th>3167</th>\n",
       "      <td>Not A Brain</td>\n",
       "      <td>Patient00792_Plane1_39_of_71</td>\n",
       "      <td>Op. 3</td>\n",
       "      <td>792.0</td>\n",
       "      <td>Other</td>\n",
       "      <td>1.0</td>\n",
       "      <td>Aloka</td>\n",
       "      <td>1</td>\n",
       "    </tr>\n",
       "    <tr>\n",
       "      <th>10542</th>\n",
       "      <td>Not A Brain</td>\n",
       "      <td>Patient01551_Plane1_6_of_22</td>\n",
       "      <td>Other</td>\n",
       "      <td>1551.0</td>\n",
       "      <td>Other</td>\n",
       "      <td>0.0</td>\n",
       "      <td>Voluson S10</td>\n",
       "      <td>1</td>\n",
       "    </tr>\n",
       "  </tbody>\n",
       "</table>\n",
       "</div>"
      ],
      "text/plain": [
       "       Brain_plane                    Image_name Operator  Patient_num  Plane  \\\n",
       "964    Not A Brain  Patient00041_Plane1_21_of_45    Other         41.0  Other   \n",
       "802    Not A Brain  Patient00036_Plane1_22_of_39    Other         36.0  Other   \n",
       "3759   Not A Brain   Patient00830_Plane1_3_of_49    Op. 2        830.0  Other   \n",
       "3167   Not A Brain  Patient00792_Plane1_39_of_71    Op. 3        792.0  Other   \n",
       "10542  Not A Brain   Patient01551_Plane1_6_of_22    Other       1551.0  Other   \n",
       "\n",
       "       Train    US_Machine  label  \n",
       "964       1.0        Aloka      1  \n",
       "802       1.0        Aloka      1  \n",
       "3759      1.0   Voluson E6      1  \n",
       "3167      1.0        Aloka      1  \n",
       "10542     0.0  Voluson S10      1  "
      ]
     },
     "execution_count": 68,
     "metadata": {},
     "output_type": "execute_result"
    }
   ],
   "source": [
    "# assign label to each class\n",
    "sample.loc[sample['Plane']=='Other', 'label'] = 1\n",
    "sample.loc[sample['Plane']=='Fetal abdomen', 'label'] = 2\n",
    "sample.loc[sample['Plane']=='Fetal femur', 'label'] = 3\n",
    "sample.loc[sample['Plane']=='Fetal thorax', 'label'] = 4\n",
    "sample.loc[sample['Plane']=='Maternal cervix', 'label'] = 5\n",
    "sample.loc[sample['Brain_plane'] == 'Trans-thalamic', 'label'] = 6\n",
    "sample.loc[sample['Brain_plane'] == 'Trans-cerebellum', 'label'] = 7\n",
    "sample.loc[sample['Brain_plane'] == 'Trans-ventricular', 'label'] = 8\n",
    "sample.loc[sample['Brain_plane'] == 'Other', 'label'] = 9\n",
    "\n",
    "sample.head()"
   ]
  },
  {
   "cell_type": "code",
   "execution_count": 99,
   "metadata": {},
   "outputs": [
    {
     "data": {
      "text/html": [
       "<div>\n",
       "<style scoped>\n",
       "    .dataframe tbody tr th:only-of-type {\n",
       "        vertical-align: middle;\n",
       "    }\n",
       "\n",
       "    .dataframe tbody tr th {\n",
       "        vertical-align: top;\n",
       "    }\n",
       "\n",
       "    .dataframe thead th {\n",
       "        text-align: right;\n",
       "    }\n",
       "</style>\n",
       "<table border=\"1\" class=\"dataframe\">\n",
       "  <thead>\n",
       "    <tr style=\"text-align: right;\">\n",
       "      <th></th>\n",
       "      <th>index</th>\n",
       "      <th>Brain_plane</th>\n",
       "      <th>Image_name</th>\n",
       "      <th>Operator</th>\n",
       "      <th>Patient_num</th>\n",
       "      <th>Plane</th>\n",
       "      <th>Train</th>\n",
       "      <th>US_Machine</th>\n",
       "      <th>label</th>\n",
       "    </tr>\n",
       "  </thead>\n",
       "  <tbody>\n",
       "    <tr>\n",
       "      <th>895</th>\n",
       "      <td>10106</td>\n",
       "      <td>Other</td>\n",
       "      <td>Patient01510_Plane3_3_of_4</td>\n",
       "      <td>Op. 3</td>\n",
       "      <td>1510.0</td>\n",
       "      <td>Fetal brain</td>\n",
       "      <td>0.0</td>\n",
       "      <td>Aloka</td>\n",
       "      <td>9</td>\n",
       "    </tr>\n",
       "    <tr>\n",
       "      <th>896</th>\n",
       "      <td>11856</td>\n",
       "      <td>Other</td>\n",
       "      <td>Patient01702_Plane3_1_of_8</td>\n",
       "      <td>Op. 2</td>\n",
       "      <td>1702.0</td>\n",
       "      <td>Fetal brain</td>\n",
       "      <td>0.0</td>\n",
       "      <td>Voluson E6</td>\n",
       "      <td>9</td>\n",
       "    </tr>\n",
       "    <tr>\n",
       "      <th>897</th>\n",
       "      <td>5248</td>\n",
       "      <td>Other</td>\n",
       "      <td>Patient00944_Plane3_1_of_1</td>\n",
       "      <td>Op. 1</td>\n",
       "      <td>944.0</td>\n",
       "      <td>Fetal brain</td>\n",
       "      <td>1.0</td>\n",
       "      <td>Voluson E6</td>\n",
       "      <td>9</td>\n",
       "    </tr>\n",
       "    <tr>\n",
       "      <th>898</th>\n",
       "      <td>5540</td>\n",
       "      <td>Other</td>\n",
       "      <td>Patient00984_Plane3_7_of_8</td>\n",
       "      <td>Op. 2</td>\n",
       "      <td>984.0</td>\n",
       "      <td>Fetal brain</td>\n",
       "      <td>1.0</td>\n",
       "      <td>Voluson E6</td>\n",
       "      <td>9</td>\n",
       "    </tr>\n",
       "    <tr>\n",
       "      <th>899</th>\n",
       "      <td>11482</td>\n",
       "      <td>Other</td>\n",
       "      <td>Patient01656_Plane3_2_of_3</td>\n",
       "      <td>Op. 3</td>\n",
       "      <td>1656.0</td>\n",
       "      <td>Fetal brain</td>\n",
       "      <td>0.0</td>\n",
       "      <td>Aloka</td>\n",
       "      <td>9</td>\n",
       "    </tr>\n",
       "  </tbody>\n",
       "</table>\n",
       "</div>"
      ],
      "text/plain": [
       "     index Brain_plane                  Image_name Operator  Patient_num  \\\n",
       "895  10106       Other  Patient01510_Plane3_3_of_4    Op. 3       1510.0   \n",
       "896  11856       Other  Patient01702_Plane3_1_of_8    Op. 2       1702.0   \n",
       "897   5248       Other  Patient00944_Plane3_1_of_1    Op. 1        944.0   \n",
       "898   5540       Other  Patient00984_Plane3_7_of_8    Op. 2        984.0   \n",
       "899  11482       Other  Patient01656_Plane3_2_of_3    Op. 3       1656.0   \n",
       "\n",
       "           Plane  Train   US_Machine label  \n",
       "895  Fetal brain     0.0       Aloka     9  \n",
       "896  Fetal brain     0.0  Voluson E6     9  \n",
       "897  Fetal brain     1.0  Voluson E6     9  \n",
       "898  Fetal brain     1.0  Voluson E6     9  \n",
       "899  Fetal brain     0.0       Aloka     9  "
      ]
     },
     "execution_count": 99,
     "metadata": {},
     "output_type": "execute_result"
    }
   ],
   "source": [
    "# reset index insample\n",
    "sample_reset = sample.reset_index()\n",
    "sample_reset['label'] = sample_reset['label'].astype('str')\n",
    "#sample_reset.drop(0, axis = 1)\n",
    "sample_reset.tail()"
   ]
  },
  {
   "cell_type": "code",
   "execution_count": 134,
   "metadata": {},
   "outputs": [],
   "source": [
    "# Train / validation split: 0.8 / 0.2\n",
    "import os\n",
    "import shutil\n",
    "\n",
    "image_path = './Images/'\n",
    "new_train_path = './sample/train/'\n",
    "new_test_path = './sample/validation/'\n",
    "\n",
    "if os.path.exists('./sample'):\n",
    "    shutil.rmtree('./sample')\n",
    "\n",
    "\n",
    "train_index = list(range(0,80))+list(range(100,180))+list(range(200,280))+list(range(300,380))+list(range(400,480))\n",
    "train_index = train_index+list(range(500,580))+list(range(600,680))+list(range(700,780))+list(range(800,880))\n",
    "test_index = list(range(80,100))+list(range(180,200))+list(range(280,300))+list(range(380,400))+list(range(480,500))\n",
    "test_index = test_index+list(range(580,600))+list(range(680,700))+list(range(780,800))+list(range(880,900))\n",
    "\n",
    "\n",
    "for idx,data in sample_reset.iterrows(): \n",
    "    full_path = image_path+data['Image_name']+'.png'\n",
    "    if os.path.exists(full_path):\n",
    "        # Other:0-99\n",
    "        if idx in train_index:\n",
    "            new_path = new_train_path + data['label'] +'/'\n",
    "            if not os.path.exists(new_path):\n",
    "                os.makedirs(new_path)\n",
    "            shutil.copy(full_path, new_path)\n",
    "        if idx in test_index:\n",
    "            new_path = new_test_path + data['label'] +'/'\n",
    "            if not os.path.exists(new_path):\n",
    "                os.makedirs(new_path)\n",
    "            shutil.copy(full_path, new_path)\n",
    "      "
   ]
  },
  {
   "cell_type": "code",
   "execution_count": 1,
   "metadata": {},
   "outputs": [],
   "source": [
    "from keras.layers import Input, Lambda, Dense, Flatten\n",
    "from keras.models import Model\n",
    "from keras.applications.vgg16 import VGG16\n",
    "from keras.applications.vgg16 import preprocess_input\n",
    "from keras.preprocessing import image\n",
    "from keras.models import Sequential\n",
    "from glob import glob\n",
    "import matplotlib.pyplot as plt"
   ]
  },
  {
   "cell_type": "code",
   "execution_count": 2,
   "metadata": {},
   "outputs": [],
   "source": [
    "# re-size all the images to this\n",
    "IMAGE_SIZE = [224, 224]"
   ]
  },
  {
   "cell_type": "code",
   "execution_count": 3,
   "metadata": {},
   "outputs": [
    {
     "name": "stdout",
     "output_type": "stream",
     "text": [
      "Downloading data from https://storage.googleapis.com/tensorflow/keras-applications/vgg16/vgg16_weights_tf_dim_ordering_tf_kernels_notop.h5\n",
      "58892288/58889256 [==============================] - 12s 0us/step\n",
      "58900480/58889256 [==============================] - 12s 0us/step\n",
      "KerasTensor(type_spec=TensorSpec(shape=(None, 7, 7, 512), dtype=tf.float32, name=None), name='block5_pool/MaxPool:0', description=\"created by layer 'block5_pool'\")\n"
     ]
    }
   ],
   "source": [
    "vgg = VGG16(input_shape=IMAGE_SIZE + [3], weights='imagenet', include_top=False)\n",
    "print(vgg.output)"
   ]
  },
  {
   "cell_type": "code",
   "execution_count": 4,
   "metadata": {},
   "outputs": [],
   "source": [
    "new_train_path = './sample/train/'\n",
    "new_test_path = './sample/validation/'\n",
    "\n",
    "\n",
    "# don't train existing weights\n",
    "for layer in vgg.layers:\n",
    "    layer.trainable = False"
   ]
  },
  {
   "cell_type": "code",
   "execution_count": 5,
   "metadata": {},
   "outputs": [],
   "source": [
    "# Number of classes\n",
    "folders = glob(new_train_path+'*')\n",
    "# my layers\n",
    "x = Flatten()(vgg.output)"
   ]
  },
  {
   "cell_type": "code",
   "execution_count": 9,
   "metadata": {
    "scrolled": true
   },
   "outputs": [
    {
     "name": "stdout",
     "output_type": "stream",
     "text": [
      "Model: \"model\"\n",
      "_________________________________________________________________\n",
      "Layer (type)                 Output Shape              Param #   \n",
      "=================================================================\n",
      "input_1 (InputLayer)         [(None, 224, 224, 3)]     0         \n",
      "_________________________________________________________________\n",
      "block1_conv1 (Conv2D)        (None, 224, 224, 64)      1792      \n",
      "_________________________________________________________________\n",
      "block1_conv2 (Conv2D)        (None, 224, 224, 64)      36928     \n",
      "_________________________________________________________________\n",
      "block1_pool (MaxPooling2D)   (None, 112, 112, 64)      0         \n",
      "_________________________________________________________________\n",
      "block2_conv1 (Conv2D)        (None, 112, 112, 128)     73856     \n",
      "_________________________________________________________________\n",
      "block2_conv2 (Conv2D)        (None, 112, 112, 128)     147584    \n",
      "_________________________________________________________________\n",
      "block2_pool (MaxPooling2D)   (None, 56, 56, 128)       0         \n",
      "_________________________________________________________________\n",
      "block3_conv1 (Conv2D)        (None, 56, 56, 256)       295168    \n",
      "_________________________________________________________________\n",
      "block3_conv2 (Conv2D)        (None, 56, 56, 256)       590080    \n",
      "_________________________________________________________________\n",
      "block3_conv3 (Conv2D)        (None, 56, 56, 256)       590080    \n",
      "_________________________________________________________________\n",
      "block3_pool (MaxPooling2D)   (None, 28, 28, 256)       0         \n",
      "_________________________________________________________________\n",
      "block4_conv1 (Conv2D)        (None, 28, 28, 512)       1180160   \n",
      "_________________________________________________________________\n",
      "block4_conv2 (Conv2D)        (None, 28, 28, 512)       2359808   \n",
      "_________________________________________________________________\n",
      "block4_conv3 (Conv2D)        (None, 28, 28, 512)       2359808   \n",
      "_________________________________________________________________\n",
      "block4_pool (MaxPooling2D)   (None, 14, 14, 512)       0         \n",
      "_________________________________________________________________\n",
      "block5_conv1 (Conv2D)        (None, 14, 14, 512)       2359808   \n",
      "_________________________________________________________________\n",
      "block5_conv2 (Conv2D)        (None, 14, 14, 512)       2359808   \n",
      "_________________________________________________________________\n",
      "block5_conv3 (Conv2D)        (None, 14, 14, 512)       2359808   \n",
      "_________________________________________________________________\n",
      "block5_pool (MaxPooling2D)   (None, 7, 7, 512)         0         \n",
      "_________________________________________________________________\n",
      "flatten (Flatten)            (None, 25088)             0         \n",
      "_________________________________________________________________\n",
      "dense_2 (Dense)              (None, 9)                 225801    \n",
      "=================================================================\n",
      "Total params: 14,940,489\n",
      "Trainable params: 225,801\n",
      "Non-trainable params: 14,714,688\n",
      "_________________________________________________________________\n"
     ]
    }
   ],
   "source": [
    "prediction = Dense(len(folders), activation='softmax')(x)\n",
    "\n",
    "# Creating a model object\n",
    "model = Model(inputs=vgg.input, outputs=prediction)\n",
    "# View the structure of the model\n",
    "model.summary()"
   ]
  },
  {
   "cell_type": "code",
   "execution_count": 10,
   "metadata": {},
   "outputs": [],
   "source": [
    "# Compile defines the loss function, the optimizer and the metrics of the loaded model.\n",
    "# Config the model with losses and metrics.\n",
    "model.compile(loss = 'categorical_crossentropy', optimizer = 'adam', metrics = ['accuracy'])"
   ]
  },
  {
   "cell_type": "code",
   "execution_count": 11,
   "metadata": {},
   "outputs": [],
   "source": [
    "from keras.preprocessing.image import ImageDataGenerator\n",
    "\n",
    "\n",
    "train_datagen = ImageDataGenerator(rescale = 1./255,\n",
    "                                   shear_range = 0.2,\n",
    "                                   zoom_range = 0.2,\n",
    "                                   horizontal_flip = True)\n",
    "\n",
    "test_datagen = ImageDataGenerator(rescale = 1./255)"
   ]
  },
  {
   "cell_type": "code",
   "execution_count": 12,
   "metadata": {},
   "outputs": [
    {
     "name": "stdout",
     "output_type": "stream",
     "text": [
      "Found 720 images belonging to 9 classes.\n",
      "Found 180 images belonging to 9 classes.\n"
     ]
    }
   ],
   "source": [
    "train_set = train_datagen.flow_from_directory(new_train_path,\n",
    "                                                 target_size = (224, 224),\n",
    "                                                 batch_size = 32,\n",
    "                                                 class_mode = 'categorical')\n",
    "\n",
    "test_set = test_datagen.flow_from_directory(new_test_path,\n",
    "                                            target_size = (224, 224),\n",
    "                                            batch_size = 32,\n",
    "                                            class_mode = 'categorical')"
   ]
  },
  {
   "cell_type": "code",
   "execution_count": 14,
   "metadata": {
    "scrolled": true
   },
   "outputs": [
    {
     "name": "stderr",
     "output_type": "stream",
     "text": [
      "/Users/liziwei/anaconda3/lib/python3.6/site-packages/keras/engine/training.py:1972: UserWarning: `Model.fit_generator` is deprecated and will be removed in a future version. Please use `Model.fit`, which supports generators.\n",
      "  warnings.warn('`Model.fit_generator` is deprecated and '\n"
     ]
    },
    {
     "name": "stdout",
     "output_type": "stream",
     "text": [
      "Epoch 1/50\n",
      "23/23 [==============================] - 172s 7s/step - loss: 1.8604 - accuracy: 0.3639 - val_loss: 1.5227 - val_accuracy: 0.5111\n",
      "Epoch 2/50\n",
      "23/23 [==============================] - 155s 7s/step - loss: 1.1190 - accuracy: 0.6042 - val_loss: 1.1632 - val_accuracy: 0.6444\n",
      "Epoch 3/50\n",
      "23/23 [==============================] - 162s 7s/step - loss: 0.7718 - accuracy: 0.7097 - val_loss: 1.0294 - val_accuracy: 0.6444\n",
      "Epoch 4/50\n",
      "23/23 [==============================] - 156s 7s/step - loss: 0.5677 - accuracy: 0.8208 - val_loss: 0.9924 - val_accuracy: 0.6556\n",
      "Epoch 5/50\n",
      "23/23 [==============================] - 165s 7s/step - loss: 0.5325 - accuracy: 0.8181 - val_loss: 1.1479 - val_accuracy: 0.6278\n",
      "Epoch 6/50\n",
      "23/23 [==============================] - 142s 6s/step - loss: 0.5147 - accuracy: 0.8194 - val_loss: 0.9213 - val_accuracy: 0.6944\n",
      "Epoch 7/50\n",
      "23/23 [==============================] - 143s 6s/step - loss: 0.4251 - accuracy: 0.8583 - val_loss: 1.0432 - val_accuracy: 0.6500\n",
      "Epoch 8/50\n",
      "23/23 [==============================] - 155s 7s/step - loss: 0.4240 - accuracy: 0.8500 - val_loss: 0.9474 - val_accuracy: 0.6722\n",
      "Epoch 9/50\n",
      "23/23 [==============================] - 143s 6s/step - loss: 0.4079 - accuracy: 0.8597 - val_loss: 0.9059 - val_accuracy: 0.7056\n",
      "Epoch 10/50\n",
      "23/23 [==============================] - 155s 7s/step - loss: 0.3271 - accuracy: 0.8972 - val_loss: 1.0423 - val_accuracy: 0.6556\n",
      "Epoch 11/50\n",
      "23/23 [==============================] - 139s 6s/step - loss: 0.3228 - accuracy: 0.8917 - val_loss: 1.2077 - val_accuracy: 0.6444\n",
      "Epoch 12/50\n",
      "23/23 [==============================] - 141s 6s/step - loss: 0.2632 - accuracy: 0.9250 - val_loss: 0.9157 - val_accuracy: 0.7000\n",
      "Epoch 13/50\n",
      "23/23 [==============================] - 141s 6s/step - loss: 0.2334 - accuracy: 0.9278 - val_loss: 1.1573 - val_accuracy: 0.6500\n",
      "Epoch 14/50\n",
      "23/23 [==============================] - 152s 7s/step - loss: 0.2248 - accuracy: 0.9389 - val_loss: 1.0451 - val_accuracy: 0.6611\n",
      "Epoch 15/50\n",
      "23/23 [==============================] - 140s 6s/step - loss: 0.2145 - accuracy: 0.9347 - val_loss: 1.0878 - val_accuracy: 0.6611\n",
      "Epoch 16/50\n",
      "23/23 [==============================] - 144s 6s/step - loss: 0.1831 - accuracy: 0.9444 - val_loss: 0.9705 - val_accuracy: 0.7111\n",
      "Epoch 17/50\n",
      "23/23 [==============================] - 136s 6s/step - loss: 0.1688 - accuracy: 0.9597 - val_loss: 0.9333 - val_accuracy: 0.7000\n",
      "Epoch 18/50\n",
      "23/23 [==============================] - 149s 7s/step - loss: 0.1555 - accuracy: 0.9639 - val_loss: 1.0518 - val_accuracy: 0.6722\n",
      "Epoch 19/50\n",
      "23/23 [==============================] - 170s 7s/step - loss: 0.1302 - accuracy: 0.9833 - val_loss: 1.0285 - val_accuracy: 0.7222\n",
      "Epoch 20/50\n",
      "23/23 [==============================] - 151s 7s/step - loss: 0.1237 - accuracy: 0.9764 - val_loss: 0.9821 - val_accuracy: 0.6778\n",
      "Epoch 21/50\n",
      "23/23 [==============================] - 149s 7s/step - loss: 0.1250 - accuracy: 0.9736 - val_loss: 1.0408 - val_accuracy: 0.7000\n",
      "Epoch 22/50\n",
      "23/23 [==============================] - 146s 6s/step - loss: 0.1108 - accuracy: 0.9778 - val_loss: 1.0102 - val_accuracy: 0.6944\n",
      "Epoch 23/50\n",
      "23/23 [==============================] - 133s 6s/step - loss: 0.1095 - accuracy: 0.9806 - val_loss: 1.0259 - val_accuracy: 0.6944\n",
      "Epoch 24/50\n",
      "23/23 [==============================] - 121s 5s/step - loss: 0.1063 - accuracy: 0.9833 - val_loss: 0.9625 - val_accuracy: 0.7000\n",
      "Epoch 25/50\n",
      "23/23 [==============================] - 114s 5s/step - loss: 0.1168 - accuracy: 0.9722 - val_loss: 1.0313 - val_accuracy: 0.6944\n",
      "Epoch 26/50\n",
      "23/23 [==============================] - 118s 5s/step - loss: 0.0900 - accuracy: 0.9847 - val_loss: 1.0391 - val_accuracy: 0.6778\n",
      "Epoch 27/50\n",
      "23/23 [==============================] - 115s 5s/step - loss: 0.1102 - accuracy: 0.9778 - val_loss: 1.1308 - val_accuracy: 0.6722\n",
      "Epoch 28/50\n",
      "23/23 [==============================] - 113s 5s/step - loss: 0.0818 - accuracy: 0.9875 - val_loss: 1.0262 - val_accuracy: 0.7167\n",
      "Epoch 29/50\n",
      "23/23 [==============================] - 113s 5s/step - loss: 0.0745 - accuracy: 0.9903 - val_loss: 1.2175 - val_accuracy: 0.6778\n",
      "Epoch 30/50\n",
      "23/23 [==============================] - 112s 5s/step - loss: 0.1290 - accuracy: 0.9597 - val_loss: 1.0800 - val_accuracy: 0.6778\n",
      "Epoch 31/50\n",
      "23/23 [==============================] - 113s 5s/step - loss: 0.0697 - accuracy: 0.9944 - val_loss: 1.0629 - val_accuracy: 0.6833\n",
      "Epoch 32/50\n",
      "23/23 [==============================] - 114s 5s/step - loss: 0.0668 - accuracy: 0.9903 - val_loss: 1.1090 - val_accuracy: 0.7056\n",
      "Epoch 33/50\n",
      "23/23 [==============================] - 112s 5s/step - loss: 0.0613 - accuracy: 0.9931 - val_loss: 1.1074 - val_accuracy: 0.6722\n",
      "Epoch 34/50\n",
      "23/23 [==============================] - 112s 5s/step - loss: 0.0568 - accuracy: 0.9944 - val_loss: 1.0426 - val_accuracy: 0.6778\n",
      "Epoch 35/50\n",
      "23/23 [==============================] - 112s 5s/step - loss: 0.0671 - accuracy: 0.9917 - val_loss: 1.0014 - val_accuracy: 0.7000\n",
      "Epoch 36/50\n",
      "23/23 [==============================] - 112s 5s/step - loss: 0.0493 - accuracy: 0.9958 - val_loss: 1.0729 - val_accuracy: 0.6833\n",
      "Epoch 37/50\n",
      "23/23 [==============================] - 113s 5s/step - loss: 0.0544 - accuracy: 0.9958 - val_loss: 1.0562 - val_accuracy: 0.7111\n",
      "Epoch 38/50\n",
      "23/23 [==============================] - 112s 5s/step - loss: 0.0551 - accuracy: 0.9931 - val_loss: 1.1195 - val_accuracy: 0.7056\n",
      "Epoch 39/50\n",
      "23/23 [==============================] - 113s 5s/step - loss: 0.0454 - accuracy: 0.9986 - val_loss: 1.1092 - val_accuracy: 0.6833\n",
      "Epoch 40/50\n",
      "23/23 [==============================] - 112s 5s/step - loss: 0.0436 - accuracy: 0.9986 - val_loss: 1.0752 - val_accuracy: 0.7111\n",
      "Epoch 41/50\n",
      "23/23 [==============================] - 112s 5s/step - loss: 0.0426 - accuracy: 1.0000 - val_loss: 1.0819 - val_accuracy: 0.6778\n",
      "Epoch 42/50\n",
      "23/23 [==============================] - 113s 5s/step - loss: 0.0384 - accuracy: 0.9986 - val_loss: 1.0712 - val_accuracy: 0.7000\n",
      "Epoch 43/50\n",
      "23/23 [==============================] - 113s 5s/step - loss: 0.0367 - accuracy: 0.9986 - val_loss: 1.0536 - val_accuracy: 0.7000\n",
      "Epoch 44/50\n",
      "23/23 [==============================] - 112s 5s/step - loss: 0.0332 - accuracy: 1.0000 - val_loss: 1.0400 - val_accuracy: 0.6889\n",
      "Epoch 45/50\n",
      "23/23 [==============================] - 112s 5s/step - loss: 0.0408 - accuracy: 0.9986 - val_loss: 1.0838 - val_accuracy: 0.7111\n",
      "Epoch 46/50\n",
      "23/23 [==============================] - 112s 5s/step - loss: 0.0560 - accuracy: 0.9903 - val_loss: 1.1177 - val_accuracy: 0.7056\n",
      "Epoch 47/50\n",
      "23/23 [==============================] - 113s 5s/step - loss: 0.0513 - accuracy: 0.9889 - val_loss: 1.0675 - val_accuracy: 0.6889\n",
      "Epoch 48/50\n",
      "23/23 [==============================] - 113s 5s/step - loss: 0.0401 - accuracy: 0.9958 - val_loss: 1.1162 - val_accuracy: 0.6778\n",
      "Epoch 49/50\n",
      "23/23 [==============================] - 113s 5s/step - loss: 0.0296 - accuracy: 0.9986 - val_loss: 1.1641 - val_accuracy: 0.6889\n",
      "Epoch 50/50\n",
      "23/23 [==============================] - 112s 5s/step - loss: 0.0416 - accuracy: 0.9958 - val_loss: 1.1042 - val_accuracy: 0.6778\n"
     ]
    }
   ],
   "source": [
    "r = model.fit_generator(\n",
    "    train_set,\n",
    "    validation_data = test_set,\n",
    "    epochs = 50,\n",
    "    steps_per_epoch = len(train_set),\n",
    "    validation_steps = len(test_set)\n",
    ")"
   ]
  },
  {
   "cell_type": "code",
   "execution_count": 15,
   "metadata": {},
   "outputs": [
    {
     "data": {
      "image/png": "[encoded data removed]",
      "text/plain": [
       "<Figure size 432x288 with 1 Axes>"
      ]
     },
     "metadata": {},
     "output_type": "display_data"
    },
    {
     "data": {
      "text/plain": [
       "<Figure size 432x288 with 0 Axes>"
      ]
     },
     "metadata": {},
     "output_type": "display_data"
    }
   ],
   "source": [
    "plt.plot(r.history['loss'], label='train loss')\n",
    "plt.plot(r.history['val_loss'], label='val loss')\n",
    "plt.legend()\n",
    "plt.show()\n",
    "plt.savefig('LossVal_loss')"
   ]
  },
  {
   "cell_type": "code",
   "execution_count": 16,
   "metadata": {
    "scrolled": true
   },
   "outputs": [
    {
     "data": {
      "image/png": "[encoded data removed]",
      "text/plain": [
       "<Figure size 432x288 with 1 Axes>"
      ]
     },
     "metadata": {},
     "output_type": "display_data"
    },
    {
     "data": {
      "text/plain": [
       "<Figure size 432x288 with 0 Axes>"
      ]
     },
     "metadata": {},
     "output_type": "display_data"
    }
   ],
   "source": [
    "plt.figure(0)\n",
    "plt.plot(r.history['accuracy'], label = 'training accuracy')\n",
    "plt.plot(r.history['val_accuracy'], label = 'validation accuracy')\n",
    "plt.title('Accuracy v/s Epochs')\n",
    "plt.xlabel('epochs')\n",
    "plt.ylabel('accuracy')\n",
    "plt.legend()\n",
    "plt.show()\n",
    "plt.savefig('Accuracy')"
   ]
  },
  {
   "cell_type": "code",
   "execution_count": null,
   "metadata": {},
   "outputs": [],
   "source": [
    "test_datagen = ImageDataGenerator(rescale = 1./255)\n",
    "\n"
   ]
  }
 ],
 "metadata": {
  "kernelspec": {
   "display_name": "Python 3",
   "language": "python",
   "name": "python3"
  },
  "language_info": {
   "codemirror_mode": {
    "name": "ipython",
    "version": 3
   },
   "file_extension": ".py",
   "mimetype": "text/x-python",
   "name": "python",
   "nbconvert_exporter": "python",
   "pygments_lexer": "ipython3",
   "version": "3.6.5"
  }
 },
 "nbformat": 4,
 "nbformat_minor": 2
}
