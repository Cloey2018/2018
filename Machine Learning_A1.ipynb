{
 "cells": [
  {
   "cell_type": "code",
   "execution_count": 1,
   "metadata": {},
   "outputs": [],
   "source": [
    "import h5py\n",
    "import numpy as np\n",
    "from scipy import linalg"
   ]
  },
  {
   "cell_type": "code",
   "execution_count": 2,
   "metadata": {
    "scrolled": true
   },
   "outputs": [],
   "source": [
    "with h5py.File('images_training.h5','r') as H:\n",
    "    data = np.copy(H['data'])\n",
    "with h5py.File('labels_training.h5','r') as H:\n",
    "    label = np.copy(H['label'])\n",
    "with h5py.File('images_testing.h5','r') as H:\n",
    "    test_data = np.copy(H['data'])\n",
    "with h5py.File('labels_testing_2000.h5','r') as H:\n",
    "    test_label = np.copy(H['label'])"
   ]
  },
  {
   "cell_type": "code",
   "execution_count": 3,
   "metadata": {
    "scrolled": true
   },
   "outputs": [],
   "source": [
    "data = np.array(data)\n",
    "test_data = np.array(test_data)\n",
    "data = np.concatenate((data,test_data),axis = 0)"
   ]
  },
  {
   "cell_type": "markdown",
   "metadata": {},
   "source": [
    "# Pooling Layers\n",
    "    long time process with logreg accu: 0.7095 [23x23] with 20% training data\n",
    "    better time process with logreg accu: 0.3018 [13x13] with 20% training data\n",
    "    def reform_matrix(k,n):\n",
    "        temp = data[k]\n",
    "        matrix_ij = []\n",
    "        for i in range(n):\n",
    "            matrix_i = []\n",
    "            for j in range(n):         \n",
    "                max_ij = np.max(temp[i:i+16,j:j+16])\n",
    "                matrix_i.append(max_ij)\n",
    "            matrix_ij.append(matrix_i)\n",
    "        return np.array(matrix_ij)\n",
    "\n",
    "    n = 13\n",
    "    data_ijk = []\n",
    "    for k in range(len(data)):\n",
    "        data_ijk.append(reform_matrix(k,n))\n",
    "    data = data_ijk"
   ]
  },
  {
   "cell_type": "markdown",
   "metadata": {},
   "source": [
    "# Matrix decompose by using SVD"
   ]
  },
  {
   "cell_type": "code",
   "execution_count": 4,
   "metadata": {},
   "outputs": [],
   "source": [
    "def reshape(data,n):\n",
    "    data_reconstructed = []\n",
    "    for i in data:\n",
    "        i_reconstructed = i.reshape(1,n**2)\n",
    "        data_reconstructed.append(i_reconstructed[0])\n",
    "    return data_reconstructed\n",
    "data = reshape(data,len(data[0]))\n",
    "data = np.array(data)"
   ]
  },
  {
   "cell_type": "code",
   "execution_count": 5,
   "metadata": {},
   "outputs": [
    {
     "name": "stdout",
     "output_type": "stream",
     "text": [
      "[502587.58 173748.7  112890.48  91485.05  78017.53  73115.65  60549.47\n",
      "  55806.88  46362.44  45215.56  39923.45  37880.22  34661.13  32120.48\n",
      "  31464.38  30610.41  30009.95  28688.77  26883.56  26633.43]\n"
     ]
    },
    {
     "data": {
      "text/plain": [
       "array([[-0.007, -0.005, -0.   , ..., -0.004,  0.003, -0.   ],\n",
       "       [-0.007,  0.001, -0.005, ..., -0.   ,  0.   ,  0.002],\n",
       "       [-0.007, -0.003, -0.002, ..., -0.004,  0.001, -0.   ],\n",
       "       ...,\n",
       "       [-0.004, -0.   , -0.006, ...,  0.   ,  0.001, -0.   ],\n",
       "       [-0.002, -0.002, -0.001, ...,  0.   , -0.   , -0.001],\n",
       "       [-0.007, -0.006, -0.006, ...,  0.002, -0.001,  0.002]])"
      ]
     },
     "execution_count": 5,
     "metadata": {},
     "output_type": "execute_result"
    }
   ],
   "source": [
    "U, s, Vt = np.linalg.svd(data, full_matrices=False)\n",
    "U = np.array(U)\n",
    "print(np.round(s[:20],2))\n",
    "np.round(U,3)"
   ]
  },
  {
   "cell_type": "code",
   "execution_count": 6,
   "metadata": {},
   "outputs": [
    {
     "name": "stdout",
     "output_type": "stream",
     "text": [
      "30000 5000\n"
     ]
    }
   ],
   "source": [
    "data = U[:30000]\n",
    "test_data = U[30000:]\n",
    "print(len(data),len(test_data))"
   ]
  },
  {
   "cell_type": "markdown",
   "metadata": {},
   "source": [
    "# Split data into train and validate data"
   ]
  },
  {
   "cell_type": "code",
   "execution_count": 7,
   "metadata": {},
   "outputs": [
    {
     "name": "stderr",
     "output_type": "stream",
     "text": [
      "c:\\python36\\lib\\site-packages\\sklearn\\cross_validation.py:41: DeprecationWarning: This module was deprecated in version 0.18 in favor of the model_selection module into which all the refactored classes and functions are moved. Also note that the interface of the new CV iterators are different from that of this module. This module will be removed in 0.20.\n",
      "  \"This module will be removed in 0.20.\", DeprecationWarning)\n"
     ]
    }
   ],
   "source": [
    "from sklearn.cross_validation import train_test_split\n",
    "x_train, x_test, y_train, y_test = train_test_split(data, label, test_size=0.3,random_state=5)"
   ]
  },
  {
   "cell_type": "markdown",
   "metadata": {},
   "source": [
    "# Select data into 10 class"
   ]
  },
  {
   "cell_type": "code",
   "execution_count": 8,
   "metadata": {},
   "outputs": [
    {
     "name": "stdout",
     "output_type": "stream",
     "text": [
      "<class 'numpy.ndarray'>\n",
      "10 2105 784\n",
      "0 2105 2105\n",
      "1 2090 2090\n",
      "2 2094 2094\n",
      "3 2087 2087\n",
      "4 2083 2083\n",
      "5 2098 2098\n",
      "6 2111 2111\n",
      "7 2010 2010\n",
      "8 2142 2142\n",
      "9 2180 2180\n"
     ]
    }
   ],
   "source": [
    "class_pos = []\n",
    "for i in range(10):\n",
    "    temp = np.where(y_train==i)[0]\n",
    "    class_pos.append(temp)\n",
    "len(class_pos)\n",
    "\n",
    "x_train_subset = []\n",
    "for i in range(10):\n",
    "    x_trai = []\n",
    "    for j in class_pos[i]:\n",
    "        x_trai.append(x_train[j])\n",
    "    x_train_subset.append(x_trai)\n",
    "x_train_subset = np.array(x_train_subset)\n",
    "print(type(x_train_subset))\n",
    "\n",
    "print(len(x_train_subset),len(x_train_subset[0]),len(x_train_subset[0][0]))\n",
    "\n",
    "for i in range(10):\n",
    "    print(i ,len(x_train_subset[i]),len(class_pos[i]))"
   ]
  },
  {
   "cell_type": "markdown",
   "metadata": {},
   "source": [
    "# Classifier log Fitting function \n",
    "    Calculate w in 10 class\n",
    "    maxmize likelihood in log regression function by using gradient descent\n",
    "    Loss = target - predict\n",
    "    Constant Bias = 1\n",
    "    Predict = 1 / (1 + exp(-(Bais + sum(wi*xi)))\n",
    "    dw = 0.0001(target - predict) * xi\n",
    "    wi = wi * (1 + dw)\n",
    "    sign each label = 1 for own x_train_subset[i], label = 0 for other x_train_subset[i]"
   ]
  },
  {
   "cell_type": "code",
   "execution_count": 9,
   "metadata": {},
   "outputs": [],
   "source": [
    "def log_predict(x_train,wi,i):\n",
    "    predict = 1 / (1 + np.exp(-(1 + x_train[i].dot(wi))))\n",
    "    weight_hist.append(w)\n",
    "    return predict\n",
    "\n",
    "def w_claculation(i,k):\n",
    "    if i in class_pos[k]:\n",
    "        predict = log_predict(x_train,w[k],i)\n",
    "        dw = learning_rate*(1 - predict) * x_train[i]\n",
    "        w[k] = w[k] * (1 + dw)"
   ]
  },
  {
   "cell_type": "code",
   "execution_count": 10,
   "metadata": {},
   "outputs": [],
   "source": [
    "w = np.ones([10,784])\n",
    "learning_rate = 0.007\n",
    "weight_hist = []\n",
    "def class_fit(x_train,weight_hist,train_t):\n",
    "    w = np.ones([10,784])\n",
    "    for train_time in range (train_t):\n",
    "        weight_hist.append(w)\n",
    "        for i in range(len(x_train)):\n",
    "            w_claculation(i,0)\n",
    "            w_claculation(i,1)\n",
    "            w_claculation(i,2)\n",
    "            w_claculation(i,3)\n",
    "            w_claculation(i,4)\n",
    "            w_claculation(i,5)\n",
    "            w_claculation(i,6)\n",
    "            w_claculation(i,7)\n",
    "            w_claculation(i,8)\n",
    "            w_claculation(i,9)"
   ]
  },
  {
   "cell_type": "code",
   "execution_count": 11,
   "metadata": {},
   "outputs": [],
   "source": [
    "def Class_predict(data):\n",
    "    classes = []\n",
    "    data = np.array(data)\n",
    "    predict = 1 / (1 + np.exp(-(1 + data.dot(w.T))))\n",
    "    for i in range(len(y_test)):\n",
    "        classes.append(np.argmax(predict[i]))\n",
    "    return np.array(classes)"
   ]
  },
  {
   "cell_type": "code",
   "execution_count": 12,
   "metadata": {},
   "outputs": [],
   "source": [
    "def accuracy(classes,y_test):\n",
    "    n = 0\n",
    "    for i in range(len(classes)):\n",
    "        if classes[i] == y_test[i]:\n",
    "            n+=1\n",
    "    accu = n / len(y_test)\n",
    "    return np.round(accu,8)"
   ]
  },
  {
   "cell_type": "markdown",
   "metadata": {},
   "source": [
    "# Training time selection"
   ]
  },
  {
   "cell_type": "code",
   "execution_count": 13,
   "metadata": {},
   "outputs": [],
   "source": [
    "import matplotlib.pyplot as plt\n",
    "%matplotlib inline"
   ]
  },
  {
   "cell_type": "code",
   "execution_count": 14,
   "metadata": {},
   "outputs": [],
   "source": [
    "weight_hist = []\n",
    "learning_rate = 0.007\n",
    "class_fit(x_train,weight_hist,train_t = 5)"
   ]
  },
  {
   "cell_type": "code",
   "execution_count": 15,
   "metadata": {
    "scrolled": true
   },
   "outputs": [
    {
     "data": {
      "text/plain": [
       "Text(0,0.5,'Accuracy')"
      ]
     },
     "execution_count": 15,
     "metadata": {},
     "output_type": "execute_result"
    },
    {
     "data": {
      "image/png": "[encoded data removed]",
      "text/plain": [
       "<Figure size 432x288 with 1 Axes>"
      ]
     },
     "metadata": {},
     "output_type": "display_data"
    }
   ],
   "source": [
    "x_test = np.array(x_test)\n",
    "x = (np.linspace(0,4,5)).astype(int)\n",
    "acc_hist = []\n",
    "for i in x:\n",
    "    classes_predict_test = []\n",
    "    predict = 1 / (1 + np.exp(-(1 + x_test.dot(weight_hist[i].T))))\n",
    "    for i in range(len(predict)):\n",
    "        classes_predict_test.append(np.argmax(predict[i]))\n",
    "\n",
    "    n = 0\n",
    "    for i in range(len(classes_predict_test)):\n",
    "        if classes_predict_test[i] == y_test[i]:\n",
    "            n+=1\n",
    "    accu = n / len(y_test)\n",
    "    acc_hist.append(accu)\n",
    "\n",
    "plt.plot(x,acc_hist)\n",
    "plt.title('Training time selection')\n",
    "plt.xlabel('Training time')\n",
    "plt.ylabel('Accuracy')"
   ]
  },
  {
   "cell_type": "markdown",
   "metadata": {},
   "source": [
    "# Validation find optimize learning rate\n",
    "    𝑎𝑐𝑐𝑢𝑟𝑎𝑐𝑦 = (number of correct classifications) / (total number of test examples used) ∗ 100%"
   ]
  },
  {
   "cell_type": "code",
   "execution_count": 16,
   "metadata": {},
   "outputs": [],
   "source": [
    "acc_opt = []\n",
    "learning_rate = np.array(list(range(1,10)))/1000\n",
    "for i in learning_rate:\n",
    "    weight_hist = []\n",
    "    w = np.ones([10,784])\n",
    "    learning_rate = i\n",
    "    class_fit(x_train,weight_hist,train_t=1)\n",
    "    temp = accuracy(Class_predict(x_test),y_test)\n",
    "    acc_opt.append(temp)"
   ]
  },
  {
   "cell_type": "code",
   "execution_count": 17,
   "metadata": {},
   "outputs": [
    {
     "name": "stdout",
     "output_type": "stream",
     "text": [
      "[0.80511111, 0.80533333, 0.80533333, 0.80522222, 0.80533333, 0.80533333, 0.80544444, 0.80522222, 0.80522222]\n",
      "Highes accuracy: 0.80544444\n",
      "Best learning selection: 0.007\n"
     ]
    },
    {
     "data": {
      "image/png": "[encoded data removed]",
      "text/plain": [
       "<Figure size 432x288 with 1 Axes>"
      ]
     },
     "metadata": {},
     "output_type": "display_data"
    }
   ],
   "source": [
    "learning_rate_ = np.array(list(range(1,10)))/1000\n",
    "plt.plot(learning_rate_, acc_opt, c='b')\n",
    "plt.xlabel('learning_rate')\n",
    "plt.ylabel('accuracy')\n",
    "print(acc_opt)\n",
    "print('Highes accuracy:',np.max(acc_opt))\n",
    "print('Best learning selection:',learning_rate_[np.argmax(acc_opt)])"
   ]
  },
  {
   "cell_type": "markdown",
   "metadata": {},
   "source": [
    "# Training Model with best learning rate and training time (initial w all == 1)"
   ]
  },
  {
   "cell_type": "code",
   "execution_count": 18,
   "metadata": {},
   "outputs": [],
   "source": [
    "weight_hist = []\n",
    "learning_rate = learning_rate_[np.argmax(acc_opt)]\n",
    "class_fit(x_train,weight_hist,train_t=1)"
   ]
  },
  {
   "cell_type": "code",
   "execution_count": 19,
   "metadata": {},
   "outputs": [
    {
     "data": {
      "text/plain": [
       "10"
      ]
     },
     "execution_count": 19,
     "metadata": {},
     "output_type": "execute_result"
    }
   ],
   "source": [
    "class_pos = []\n",
    "for i in range(10):\n",
    "    temp = np.where(y_test==i)[0]\n",
    "    class_pos.append(temp)\n",
    "len(class_pos)\n",
    "\n",
    "Class_predict = Class_predict(x_test)\n",
    "Class_predict_subset = []\n",
    "for i in range(10):\n",
    "    y_predict = []\n",
    "    for j in class_pos[i]:\n",
    "        y_predict.append(Class_predict[j])\n",
    "    Class_predict_subset.append(y_predict)\n",
    "Class_predict_subset = np.array(Class_predict_subset)\n",
    "len(Class_predict_subset)"
   ]
  },
  {
   "cell_type": "markdown",
   "metadata": {},
   "source": [
    "# Accuracy and Classification report on Validate data set"
   ]
  },
  {
   "cell_type": "code",
   "execution_count": 20,
   "metadata": {},
   "outputs": [
    {
     "name": "stdout",
     "output_type": "stream",
     "text": [
      "Class_predict_subset 0 accuracy: 0.79\n",
      "Class_predict_subset 1 accuracy: 0.95\n",
      "Class_predict_subset 2 accuracy: 0.7\n",
      "Class_predict_subset 3 accuracy: 0.86\n",
      "Class_predict_subset 4 accuracy: 0.77\n",
      "Class_predict_subset 5 accuracy: 0.78\n",
      "Class_predict_subset 6 accuracy: 0.48\n",
      "Class_predict_subset 7 accuracy: 0.9\n",
      "Class_predict_subset 8 accuracy: 0.91\n",
      "Class_predict_subset 9 accuracy: 0.91\n",
      "Average accuracy: 0.8\n"
     ]
    }
   ],
   "source": [
    "acc = []\n",
    "for i in range(10):\n",
    "    n = 0\n",
    "    for j in Class_predict_subset[i]:\n",
    "        if j == i:\n",
    "            n += 1\n",
    "    accuracy = np.round(n / len(Class_predict_subset[i]),2)\n",
    "    acc.append(accuracy)\n",
    "    print('Class_predict_subset',i,'accuracy:',accuracy)\n",
    "print('Average accuracy:',np.round(np.average(acc),2))"
   ]
  },
  {
   "cell_type": "code",
   "execution_count": 21,
   "metadata": {},
   "outputs": [
    {
     "name": "stdout",
     "output_type": "stream",
     "text": [
      "             precision    recall  f1-score   support\n",
      "\n",
      "          0       0.76      0.79      0.78       906\n",
      "          1       0.96      0.95      0.95       866\n",
      "          2       0.73      0.70      0.72       926\n",
      "          3       0.80      0.86      0.83       915\n",
      "          4       0.69      0.77      0.72       946\n",
      "          5       0.89      0.78      0.83       930\n",
      "          6       0.65      0.48      0.55       856\n",
      "          7       0.85      0.90      0.88       885\n",
      "          8       0.89      0.91      0.90       860\n",
      "          9       0.82      0.91      0.87       910\n",
      "\n",
      "avg / total       0.80      0.81      0.80      9000\n",
      "\n"
     ]
    }
   ],
   "source": [
    "from sklearn.metrics import classification_report\n",
    "print(classification_report(y_test, Class_predict))"
   ]
  },
  {
   "cell_type": "code",
   "execution_count": 22,
   "metadata": {},
   "outputs": [
    {
     "name": "stdout",
     "output_type": "stream",
     "text": [
      "confusion matrix:\n",
      "[[716   4  16  79   8   1  58   1  21   2]\n",
      " [  2 822   7  28   3   0   4   0   0   0]\n",
      " [ 32   4 651  12 169   5  37   1  15   0]\n",
      " [ 34  19  15 787  29   3  21   1   5   1]\n",
      " [  4   5  68  42 724   2  89   0  12   0]\n",
      " [  0   0   0   0   0 725   0  82  23 100]\n",
      " [144   2 126  31 113   8 410   1  21   0]\n",
      " [  0   0   0   0   0  21   0 797   3  64]\n",
      " [  5   1   3   6  10  21  12   7 785  10]\n",
      " [  0   0   0   0   0  33   0  45   0 832]]\n"
     ]
    },
    {
     "data": {
      "image/png": "[encoded data removed]",
      "text/plain": [
       "<Figure size 288x288 with 2 Axes>"
      ]
     },
     "metadata": {},
     "output_type": "display_data"
    }
   ],
   "source": [
    "from sklearn.metrics import confusion_matrix\n",
    "print('confusion matrix:')\n",
    "conf = confusion_matrix(y_test, Class_predict)\n",
    "print(conf)\n",
    "\n",
    "_ = plt.matshow(conf, cmap=plt.cm.binary, interpolation='nearest')\n",
    "_ = plt.colorbar()\n",
    "_ = plt.ylabel('Class')\n",
    "_ = plt.xlabel('Class_Predicted')"
   ]
  },
  {
   "cell_type": "markdown",
   "metadata": {},
   "source": [
    "# Calculated Weight"
   ]
  },
  {
   "cell_type": "code",
   "execution_count": 23,
   "metadata": {},
   "outputs": [
    {
     "name": "stdout",
     "output_type": "stream",
     "text": [
      "[[0.9494  0.95965 0.99879 1.02523 0.98641 0.92033 0.98965]\n",
      " [0.9624  0.94383 1.06206 0.98448 1.04477 1.03933 1.03539]\n",
      " [0.94384 0.99832 0.94688 0.98054 1.02618 1.01347 1.00246]\n",
      " [0.95698 0.95206 1.04984 1.00562 0.98092 1.01124 1.00173]\n",
      " [0.94051 0.99084 0.96311 0.97241 1.00323 1.0375  0.96634]\n",
      " [0.98018 1.0396  1.0187  0.99935 0.99653 0.99875 1.00382]\n",
      " [0.94918 0.98757 0.96922 0.99571 0.99287 0.99013 0.99312]\n",
      " [0.97535 1.0545  1.05214 0.94429 0.98249 0.98312 1.00542]\n",
      " [0.94892 1.04788 0.99282 0.99655 0.9447  1.00484 1.04851]\n",
      " [0.95508 1.0757  1.04583 1.07647 1.03636 1.01092 0.96577]]\n",
      "Range of w: 1.07647432215585 0.9203279061613205\n"
     ]
    }
   ],
   "source": [
    "print(np.round(w[:,:7],5))\n",
    "print('Range of w:',np.max(w),np.min(w))"
   ]
  },
  {
   "cell_type": "markdown",
   "metadata": {},
   "source": [
    "# Testing model on test data set"
   ]
  },
  {
   "cell_type": "code",
   "execution_count": 24,
   "metadata": {},
   "outputs": [
    {
     "name": "stdout",
     "output_type": "stream",
     "text": [
      "3000\n"
     ]
    }
   ],
   "source": [
    "classes_predict_test = []\n",
    "data = np.array(data)\n",
    "predict = 1 / (1 + np.exp(-(1 + test_data.dot(w.T))))\n",
    "for i in range(len(test_data)):\n",
    "    classes_predict_test.append(np.argmax(predict[i]))\n",
    "classes_predict_test = np.array(classes_predict_test)\n",
    "\n",
    "output = classes_predict_test[2000:]\n",
    "print(len(output))"
   ]
  },
  {
   "cell_type": "code",
   "execution_count": 25,
   "metadata": {
    "scrolled": true
   },
   "outputs": [
    {
     "data": {
      "text/plain": [
       "0.8"
      ]
     },
     "execution_count": 25,
     "metadata": {},
     "output_type": "execute_result"
    }
   ],
   "source": [
    "n = 0\n",
    "for i in range(2000):\n",
    "    if classes_predict_test[i] == test_label[i]:\n",
    "        n += 1\n",
    "accuracy = np.round((n / 2000),2)\n",
    "accuracy"
   ]
  },
  {
   "cell_type": "code",
   "execution_count": 26,
   "metadata": {},
   "outputs": [
    {
     "name": "stdout",
     "output_type": "stream",
     "text": [
      "             precision    recall  f1-score   support\n",
      "\n",
      "          0       0.75      0.78      0.76       178\n",
      "          1       0.98      0.96      0.97       191\n",
      "          2       0.73      0.69      0.71       210\n",
      "          3       0.77      0.85      0.81       191\n",
      "          4       0.66      0.77      0.71       212\n",
      "          5       0.92      0.75      0.83       214\n",
      "          6       0.63      0.44      0.52       200\n",
      "          7       0.86      0.93      0.89       198\n",
      "          8       0.87      0.90      0.88       219\n",
      "          9       0.82      0.95      0.88       187\n",
      "\n",
      "avg / total       0.80      0.80      0.80      2000\n",
      "\n"
     ]
    }
   ],
   "source": [
    "print(classification_report(test_label, classes_predict_test[:2000]))"
   ]
  },
  {
   "cell_type": "code",
   "execution_count": 27,
   "metadata": {},
   "outputs": [
    {
     "name": "stdout",
     "output_type": "stream",
     "text": [
      "confusion matrix:\n",
      "[[139   1   2  16   0   0  13   0   6   1]\n",
      " [  0 184   1   5   0   0   1   0   0   0]\n",
      " [  6   1 144   1  41   1  11   0   5   0]\n",
      " [ 10   1   2 163   9   1   2   0   3   0]\n",
      " [  0   0  16   9 163   0  21   0   3   0]\n",
      " [  0   0   1   1   0 160   0  22   4  26]\n",
      " [ 30   0  29  15  29   0  88   0   9   0]\n",
      " [  0   0   0   0   0   5   0 185   0   8]\n",
      " [  1   0   1   2   5   4   2   3 197   4]\n",
      " [  0   0   0   0   0   2   1   6   0 178]]\n"
     ]
    },
    {
     "data": {
      "image/png": "[encoded data removed]",
      "text/plain": [
       "<Figure size 288x288 with 2 Axes>"
      ]
     },
     "metadata": {},
     "output_type": "display_data"
    }
   ],
   "source": [
    "from sklearn.metrics import confusion_matrix\n",
    "print('confusion matrix:')\n",
    "conf = confusion_matrix(test_label, classes_predict_test[:2000])\n",
    "print(conf)\n",
    "\n",
    "_ = plt.matshow(conf, cmap=plt.cm.binary, interpolation='nearest')\n",
    "_ = plt.colorbar()\n",
    "_ = plt.ylabel('Class')\n",
    "_ = plt.xlabel('Class_Predicted')"
   ]
  },
  {
   "cell_type": "markdown",
   "metadata": {},
   "source": [
    "# Output data"
   ]
  },
  {
   "cell_type": "code",
   "execution_count": 28,
   "metadata": {},
   "outputs": [],
   "source": [
    "with h5py.File('predicted_labels.h5','w') as H:\n",
    "    H.create_dataset('label',data=output)"
   ]
  },
  {
   "cell_type": "code",
   "execution_count": 29,
   "metadata": {},
   "outputs": [],
   "source": [
    "with h5py.File('predicted_labels.h5','r') as H:\n",
    "    data = np.copy(H['label'])"
   ]
  },
  {
   "cell_type": "code",
   "execution_count": 30,
   "metadata": {},
   "outputs": [
    {
     "data": {
      "text/plain": [
       "3000"
      ]
     },
     "execution_count": 30,
     "metadata": {},
     "output_type": "execute_result"
    }
   ],
   "source": [
    "len(data)"
   ]
  },
  {
   "cell_type": "code",
   "execution_count": null,
   "metadata": {},
   "outputs": [],
   "source": []
  },
  {
   "cell_type": "code",
   "execution_count": null,
   "metadata": {},
   "outputs": [],
   "source": []
  },
  {
   "cell_type": "code",
   "execution_count": null,
   "metadata": {},
   "outputs": [],
   "source": []
  },
  {
   "cell_type": "code",
   "execution_count": 31,
   "metadata": {},
   "outputs": [
    {
     "ename": "SyntaxError",
     "evalue": "'break' outside loop (<ipython-input-31-6aaf1f276005>, line 1)",
     "output_type": "error",
     "traceback": [
      "\u001b[1;36m  File \u001b[1;32m\"<ipython-input-31-6aaf1f276005>\"\u001b[1;36m, line \u001b[1;32m1\u001b[0m\n\u001b[1;33m    break\u001b[0m\n\u001b[1;37m         ^\u001b[0m\n\u001b[1;31mSyntaxError\u001b[0m\u001b[1;31m:\u001b[0m 'break' outside loop\n"
     ]
    }
   ],
   "source": [
    "break"
   ]
  },
  {
   "cell_type": "markdown",
   "metadata": {},
   "source": [
    "# This part only use for comparation between import log regression and new method provide above\n",
    "    In traditional way the fitting process is super long which is over 20 mins or even more, but almost same accuracy: 0.813 which only 0.005 higher.\n",
    "    Instead the using by SVD to transform data as eigenvector, will save much more times, where process is less than 10 seconds."
   ]
  },
  {
   "cell_type": "markdown",
   "metadata": {},
   "source": [
    "# Log reg check\n",
    "    0.66 by using U with 20% training data (fast process)\n",
    "    0.7455 with full data with 20% training data (longtime process)"
   ]
  },
  {
   "cell_type": "code",
   "execution_count": null,
   "metadata": {},
   "outputs": [],
   "source": [
    "import h5py\n",
    "import numpy as np\n",
    "with h5py.File('images_training.h5','r') as H:\n",
    "    data = np.copy(H['data'])\n",
    "with h5py.File('labels_training.h5','r') as H:\n",
    "    label = np.copy(H['label'])"
   ]
  },
  {
   "cell_type": "code",
   "execution_count": null,
   "metadata": {},
   "outputs": [],
   "source": [
    "def reshape(data,n):\n",
    "    data_reconstructed = []\n",
    "    for i in data:\n",
    "        i_reconstructed = i.reshape(1,n**2)\n",
    "        data_reconstructed.append(i_reconstructed[0])\n",
    "    return data_reconstructed\n",
    "data = reshape(data,len(data[0]))\n",
    "data = np.array(data)"
   ]
  },
  {
   "cell_type": "code",
   "execution_count": null,
   "metadata": {},
   "outputs": [],
   "source": [
    "from sklearn.cross_validation import train_test_split\n",
    "x_train, x_test, y_train, y_test = train_test_split(data, label, test_size=0.3,random_state=5)"
   ]
  },
  {
   "cell_type": "code",
   "execution_count": null,
   "metadata": {},
   "outputs": [],
   "source": [
    "from sklearn.linear_model import LogisticRegression\n",
    "ols = LogisticRegression()\n",
    "ols.fit(x_train, y_train)"
   ]
  },
  {
   "cell_type": "code",
   "execution_count": null,
   "metadata": {},
   "outputs": [],
   "source": [
    "def accuracy(classes,y_test):\n",
    "    n = 0\n",
    "    for i in range(len(classes)):\n",
    "        if classes[i] == y_test[i]:\n",
    "            n+=1\n",
    "    accu = n / len(y_test)\n",
    "    return np.round(accu,8)\n",
    "print('Accuracy:',accuracy(ols.predict(x_test),y_test))"
   ]
  },
  {
   "cell_type": "code",
   "execution_count": null,
   "metadata": {},
   "outputs": [],
   "source": []
  }
 ],
 "metadata": {
  "kernelspec": {
   "display_name": "Python 3",
   "language": "python",
   "name": "python3"
  },
  "language_info": {
   "codemirror_mode": {
    "name": "ipython",
    "version": 3
   },
   "file_extension": ".py",
   "mimetype": "text/x-python",
   "name": "python",
   "nbconvert_exporter": "python",
   "pygments_lexer": "ipython3",
   "version": "3.6.5"
  }
 },
 "nbformat": 4,
 "nbformat_minor": 2
}
